{
 "cells": [
  {
   "cell_type": "code",
   "execution_count": 1,
   "metadata": {},
   "outputs": [],
   "source": [
    "import numpy as np\n",
    "import pandas as pd\n",
    "import matplotlib.pyplot as plt\n",
    "from multiprocessing import  Pool"
   ]
  },
  {
   "cell_type": "code",
   "execution_count": 2,
   "metadata": {},
   "outputs": [],
   "source": [
    "def most_frequent(s):\n",
    "    return s.value_counts().index[0]\n",
    "\n",
    "def least_frequent(s):\n",
    "    return s.value_counts().index[-1]\n",
    "\n",
    "def most_frequent_count(s):\n",
    "    return s.value_counts().values[0]\n",
    "\n",
    "def least_frequent_count(s):\n",
    "    return s.value_counts().values[-1]\n",
    "\n",
    "def parallelize_dataframe(df, func, n_cores=4):\n",
    "    df_split = np.array_split(df, n_cores)\n",
    "    pool = Pool(n_cores)\n",
    "    df = pd.concat(pool.map(func, df_split))\n",
    "    pool.close()\n",
    "    pool.join()\n",
    "    return df"
   ]
  },
  {
   "cell_type": "code",
   "execution_count": 3,
   "metadata": {},
   "outputs": [
    {
     "data": {
      "text/html": [
       "<div>\n",
       "<style scoped>\n",
       "    .dataframe tbody tr th:only-of-type {\n",
       "        vertical-align: middle;\n",
       "    }\n",
       "\n",
       "    .dataframe tbody tr th {\n",
       "        vertical-align: top;\n",
       "    }\n",
       "\n",
       "    .dataframe thead th {\n",
       "        text-align: right;\n",
       "    }\n",
       "</style>\n",
       "<table border=\"1\" class=\"dataframe\">\n",
       "  <thead>\n",
       "    <tr style=\"text-align: right;\">\n",
       "      <th></th>\n",
       "      <th>item_id</th>\n",
       "      <th>brand</th>\n",
       "      <th>brand_type</th>\n",
       "      <th>category</th>\n",
       "    </tr>\n",
       "  </thead>\n",
       "  <tbody>\n",
       "    <tr>\n",
       "      <th>0</th>\n",
       "      <td>1</td>\n",
       "      <td>1</td>\n",
       "      <td>1</td>\n",
       "      <td>Grocery</td>\n",
       "    </tr>\n",
       "    <tr>\n",
       "      <th>1</th>\n",
       "      <td>2</td>\n",
       "      <td>1</td>\n",
       "      <td>1</td>\n",
       "      <td>Miscellaneous</td>\n",
       "    </tr>\n",
       "    <tr>\n",
       "      <th>2</th>\n",
       "      <td>3</td>\n",
       "      <td>56</td>\n",
       "      <td>0</td>\n",
       "      <td>Bakery</td>\n",
       "    </tr>\n",
       "    <tr>\n",
       "      <th>3</th>\n",
       "      <td>4</td>\n",
       "      <td>56</td>\n",
       "      <td>0</td>\n",
       "      <td>Grocery</td>\n",
       "    </tr>\n",
       "    <tr>\n",
       "      <th>4</th>\n",
       "      <td>5</td>\n",
       "      <td>56</td>\n",
       "      <td>0</td>\n",
       "      <td>Grocery</td>\n",
       "    </tr>\n",
       "  </tbody>\n",
       "</table>\n",
       "</div>"
      ],
      "text/plain": [
       "   item_id  brand  brand_type       category\n",
       "0        1      1           1        Grocery\n",
       "1        2      1           1  Miscellaneous\n",
       "2        3     56           0         Bakery\n",
       "3        4     56           0        Grocery\n",
       "4        5     56           0        Grocery"
      ]
     },
     "execution_count": 3,
     "metadata": {},
     "output_type": "execute_result"
    }
   ],
   "source": [
    "item_data = pd.read_csv('data/train/item_data.csv')\n",
    "item_data['brand_type'] = item_data['brand_type'].replace({'Established': 1, 'Local': 0})\n",
    "item_data.head()"
   ]
  },
  {
   "cell_type": "code",
   "execution_count": 4,
   "metadata": {},
   "outputs": [],
   "source": [
    "total_items = item_data['item_id'].nunique()\n",
    "total_brands= item_data['brand'].nunique()\n",
    "total_brand_types = item_data['brand_type'].nunique()\n",
    "total_categories = item_data['category'].nunique()"
   ]
  },
  {
   "cell_type": "code",
   "execution_count": 5,
   "metadata": {},
   "outputs": [
    {
     "name": "stdout",
     "output_type": "stream",
     "text": [
      "<class 'pandas.core.frame.DataFrame'>\n",
      "RangeIndex: 28 entries, 0 to 27\n",
      "Data columns (total 5 columns):\n",
      "campaign_id      28 non-null int64\n",
      "campaign_type    28 non-null int64\n",
      "start_date       28 non-null datetime64[ns]\n",
      "end_date         28 non-null datetime64[ns]\n",
      "duration         28 non-null int64\n",
      "dtypes: datetime64[ns](2), int64(3)\n",
      "memory usage: 1.2 KB\n"
     ]
    }
   ],
   "source": [
    "campaign_data = pd.read_csv('data/train/campaign_data.csv', \n",
    "                            parse_dates=['start_date', 'end_date'], dayfirst=True)\n",
    "campaign_data['campaign_type'] = campaign_data['campaign_type'].replace({'X': 0, 'Y': 1})\n",
    "campaign_data['duration'] = (campaign_data['end_date'] - campaign_data['start_date']).dt.days\n",
    "campaign_data.info()"
   ]
  },
  {
   "cell_type": "code",
   "execution_count": 6,
   "metadata": {},
   "outputs": [
    {
     "name": "stdout",
     "output_type": "stream",
     "text": [
      "<class 'pandas.core.frame.DataFrame'>\n",
      "Int64Index: 28 entries, 24 to 26\n",
      "Data columns (total 4 columns):\n",
      "campaign_type    28 non-null int64\n",
      "start_date       28 non-null datetime64[ns]\n",
      "end_date         28 non-null datetime64[ns]\n",
      "duration         28 non-null int64\n",
      "dtypes: datetime64[ns](2), int64(2)\n",
      "memory usage: 1.1 KB\n"
     ]
    }
   ],
   "source": [
    "campaign_data_2 = campaign_data.set_index('campaign_id')\n",
    "campaign_data_2.info()"
   ]
  },
  {
   "cell_type": "code",
   "execution_count": 7,
   "metadata": {},
   "outputs": [
    {
     "name": "stdout",
     "output_type": "stream",
     "text": [
      "<class 'pandas.core.frame.DataFrame'>\n",
      "RangeIndex: 760 entries, 0 to 759\n",
      "Data columns (total 7 columns):\n",
      "customer_id       760 non-null int64\n",
      "age_range         760 non-null object\n",
      "marital_status    760 non-null int64\n",
      "rented            760 non-null int64\n",
      "family_size       760 non-null int64\n",
      "no_of_children    760 non-null int64\n",
      "income_bracket    760 non-null int64\n",
      "dtypes: int64(6), object(1)\n",
      "memory usage: 41.6+ KB\n"
     ]
    }
   ],
   "source": [
    "def get_marital_status(row):\n",
    "    na_row = row.isna()\n",
    "    if not na_row['marital_status']:\n",
    "        return row['marital_status']\n",
    "    return 'Married' if row['family_size'] - row['no_of_children'] > 1 else 'Single'\n",
    "\n",
    "customer_data = pd.read_csv('data/train/customer_demographics.csv')\n",
    "customer_data['family_size'] = customer_data['family_size'].str.replace('+','').astype('int')\n",
    "customer_data['no_of_children'] = customer_data['no_of_children'].fillna('0').str.replace('+','').astype('int')\n",
    "customer_data['marital_status'] = customer_data.apply(get_marital_status, axis=1)\n",
    "customer_data['marital_status'] = customer_data['marital_status'].replace({'Single': 0, 'Married': 1})\n",
    "\n",
    "customer_data.info()"
   ]
  },
  {
   "cell_type": "code",
   "execution_count": 8,
   "metadata": {
    "scrolled": true
   },
   "outputs": [
    {
     "name": "stdout",
     "output_type": "stream",
     "text": [
      "<class 'pandas.core.frame.DataFrame'>\n",
      "MultiIndex: 1324566 entries, (1, 2012-02-21 00:00:00) to (1582, 2013-06-25 00:00:00)\n",
      "Data columns (total 15 columns):\n",
      "item_id               1324566 non-null int64\n",
      "quantity              1324566 non-null int64\n",
      "selling_price         1324566 non-null float64\n",
      "other_discount        1324566 non-null float64\n",
      "coupon_discount       1324566 non-null float64\n",
      "total_discount        1324566 non-null float64\n",
      "buying_price          1324566 non-null float64\n",
      "selling_price_pq      1324566 non-null float64\n",
      "other_discount_pq     1324566 non-null float64\n",
      "coupon_discount_pq    1324566 non-null float64\n",
      "total_discount_pq     1324566 non-null float64\n",
      "buying_price_pq       1324566 non-null float64\n",
      "brand                 1324566 non-null int64\n",
      "brand_type            1324566 non-null int64\n",
      "category              1324566 non-null object\n",
      "dtypes: float64(10), int64(4), object(1)\n",
      "memory usage: 156.7+ MB\n"
     ]
    }
   ],
   "source": [
    "transaction_data = pd.read_csv('data/train/customer_transaction_data.csv', parse_dates=['date'])\n",
    "transaction_data['total_discount'] = transaction_data['coupon_discount'] + transaction_data['other_discount']\n",
    "transaction_data['buying_price'] = transaction_data['selling_price'] + transaction_data['other_discount']\n",
    "transaction_data['selling_price_pq'] = transaction_data['selling_price'] / transaction_data['quantity']\n",
    "transaction_data['other_discount_pq'] = transaction_data['other_discount'] / transaction_data['quantity']\n",
    "transaction_data['coupon_discount_pq'] = transaction_data['coupon_discount'] / transaction_data['quantity']\n",
    "transaction_data['total_discount_pq'] = transaction_data['coupon_discount_pq'] + transaction_data['other_discount_pq']\n",
    "transaction_data['buying_price_pq'] = transaction_data['selling_price_pq'] + transaction_data['other_discount_pq']\n",
    "transaction_data['date'] = pd.to_datetime(transaction_data['date'])\n",
    "transaction_data = transaction_data.merge(item_data, on='item_id', how='left')\n",
    "transaction_data = transaction_data.set_index(['customer_id','date']).sort_index()\n",
    "transaction_data.info()"
   ]
  },
  {
   "cell_type": "code",
   "execution_count": 9,
   "metadata": {},
   "outputs": [
    {
     "data": {
      "text/html": [
       "<div>\n",
       "<style scoped>\n",
       "    .dataframe tbody tr th:only-of-type {\n",
       "        vertical-align: middle;\n",
       "    }\n",
       "\n",
       "    .dataframe tbody tr th {\n",
       "        vertical-align: top;\n",
       "    }\n",
       "\n",
       "    .dataframe thead th {\n",
       "        text-align: right;\n",
       "    }\n",
       "</style>\n",
       "<table border=\"1\" class=\"dataframe\">\n",
       "  <thead>\n",
       "    <tr style=\"text-align: right;\">\n",
       "      <th></th>\n",
       "      <th>customer_id</th>\n",
       "      <th>overall_unique_items</th>\n",
       "      <th>overall_items</th>\n",
       "      <th>overall_quantity</th>\n",
       "      <th>overall_sprice</th>\n",
       "      <th>overall_bprice</th>\n",
       "      <th>overall_odiscount</th>\n",
       "      <th>overall_cdiscount</th>\n",
       "      <th>overall_tdiscount</th>\n",
       "      <th>overall_sprice_pq</th>\n",
       "      <th>...</th>\n",
       "      <th>overall_items_rare_brandt</th>\n",
       "      <th>overall_unique_category</th>\n",
       "      <th>overall_freq_category</th>\n",
       "      <th>overall_rare_category</th>\n",
       "      <th>overall_items_freq_category</th>\n",
       "      <th>overall_items_rare_category</th>\n",
       "      <th>overall_coverage_item</th>\n",
       "      <th>overall_coverage_brand</th>\n",
       "      <th>overall_coverage_brandt</th>\n",
       "      <th>overall_coverage_category</th>\n",
       "    </tr>\n",
       "  </thead>\n",
       "  <tbody>\n",
       "    <tr>\n",
       "      <th>0</th>\n",
       "      <td>1</td>\n",
       "      <td>463</td>\n",
       "      <td>1048</td>\n",
       "      <td>1227</td>\n",
       "      <td>94.001842</td>\n",
       "      <td>77.751460</td>\n",
       "      <td>-16.250382</td>\n",
       "      <td>-2.019876</td>\n",
       "      <td>-18.270258</td>\n",
       "      <td>84.632943</td>\n",
       "      <td>...</td>\n",
       "      <td>90</td>\n",
       "      <td>9</td>\n",
       "      <td>Grocery</td>\n",
       "      <td>Meat</td>\n",
       "      <td>774</td>\n",
       "      <td>2</td>\n",
       "      <td>0.006251</td>\n",
       "      <td>0.029486</td>\n",
       "      <td>1.0</td>\n",
       "      <td>0.473684</td>\n",
       "    </tr>\n",
       "    <tr>\n",
       "      <th>1</th>\n",
       "      <td>2</td>\n",
       "      <td>352</td>\n",
       "      <td>419</td>\n",
       "      <td>474</td>\n",
       "      <td>102.864033</td>\n",
       "      <td>86.033604</td>\n",
       "      <td>-16.830430</td>\n",
       "      <td>-0.595084</td>\n",
       "      <td>-17.425513</td>\n",
       "      <td>94.373588</td>\n",
       "      <td>...</td>\n",
       "      <td>92</td>\n",
       "      <td>9</td>\n",
       "      <td>Grocery</td>\n",
       "      <td>Seafood</td>\n",
       "      <td>295</td>\n",
       "      <td>1</td>\n",
       "      <td>0.004753</td>\n",
       "      <td>0.027677</td>\n",
       "      <td>1.0</td>\n",
       "      <td>0.473684</td>\n",
       "    </tr>\n",
       "    <tr>\n",
       "      <th>2</th>\n",
       "      <td>3</td>\n",
       "      <td>406</td>\n",
       "      <td>705</td>\n",
       "      <td>8163</td>\n",
       "      <td>103.617404</td>\n",
       "      <td>80.903177</td>\n",
       "      <td>-22.714227</td>\n",
       "      <td>-3.091546</td>\n",
       "      <td>-25.805773</td>\n",
       "      <td>71.007598</td>\n",
       "      <td>...</td>\n",
       "      <td>112</td>\n",
       "      <td>8</td>\n",
       "      <td>Grocery</td>\n",
       "      <td>Fuel</td>\n",
       "      <td>577</td>\n",
       "      <td>1</td>\n",
       "      <td>0.005482</td>\n",
       "      <td>0.020622</td>\n",
       "      <td>1.0</td>\n",
       "      <td>0.421053</td>\n",
       "    </tr>\n",
       "    <tr>\n",
       "      <th>3</th>\n",
       "      <td>4</td>\n",
       "      <td>125</td>\n",
       "      <td>220</td>\n",
       "      <td>280</td>\n",
       "      <td>154.423727</td>\n",
       "      <td>141.118318</td>\n",
       "      <td>-13.305409</td>\n",
       "      <td>-0.404773</td>\n",
       "      <td>-13.710182</td>\n",
       "      <td>129.373114</td>\n",
       "      <td>...</td>\n",
       "      <td>28</td>\n",
       "      <td>8</td>\n",
       "      <td>Grocery</td>\n",
       "      <td>Dairy, Juices &amp; Snacks</td>\n",
       "      <td>168</td>\n",
       "      <td>1</td>\n",
       "      <td>0.001688</td>\n",
       "      <td>0.013025</td>\n",
       "      <td>1.0</td>\n",
       "      <td>0.421053</td>\n",
       "    </tr>\n",
       "    <tr>\n",
       "      <th>4</th>\n",
       "      <td>5</td>\n",
       "      <td>490</td>\n",
       "      <td>792</td>\n",
       "      <td>93353</td>\n",
       "      <td>130.827146</td>\n",
       "      <td>117.169230</td>\n",
       "      <td>-13.657917</td>\n",
       "      <td>-0.114684</td>\n",
       "      <td>-13.772601</td>\n",
       "      <td>104.222145</td>\n",
       "      <td>...</td>\n",
       "      <td>178</td>\n",
       "      <td>14</td>\n",
       "      <td>Grocery</td>\n",
       "      <td>Garden</td>\n",
       "      <td>405</td>\n",
       "      <td>1</td>\n",
       "      <td>0.006616</td>\n",
       "      <td>0.030391</td>\n",
       "      <td>1.0</td>\n",
       "      <td>0.736842</td>\n",
       "    </tr>\n",
       "  </tbody>\n",
       "</table>\n",
       "<p>5 rows × 33 columns</p>\n",
       "</div>"
      ],
      "text/plain": [
       "   customer_id  overall_unique_items  overall_items  overall_quantity  \\\n",
       "0            1                   463           1048              1227   \n",
       "1            2                   352            419               474   \n",
       "2            3                   406            705              8163   \n",
       "3            4                   125            220               280   \n",
       "4            5                   490            792             93353   \n",
       "\n",
       "   overall_sprice  overall_bprice  overall_odiscount  overall_cdiscount  \\\n",
       "0       94.001842       77.751460         -16.250382          -2.019876   \n",
       "1      102.864033       86.033604         -16.830430          -0.595084   \n",
       "2      103.617404       80.903177         -22.714227          -3.091546   \n",
       "3      154.423727      141.118318         -13.305409          -0.404773   \n",
       "4      130.827146      117.169230         -13.657917          -0.114684   \n",
       "\n",
       "   overall_tdiscount  overall_sprice_pq  ...  overall_items_rare_brandt  \\\n",
       "0         -18.270258          84.632943  ...                         90   \n",
       "1         -17.425513          94.373588  ...                         92   \n",
       "2         -25.805773          71.007598  ...                        112   \n",
       "3         -13.710182         129.373114  ...                         28   \n",
       "4         -13.772601         104.222145  ...                        178   \n",
       "\n",
       "   overall_unique_category  overall_freq_category   overall_rare_category  \\\n",
       "0                        9                Grocery                    Meat   \n",
       "1                        9                Grocery                 Seafood   \n",
       "2                        8                Grocery                    Fuel   \n",
       "3                        8                Grocery  Dairy, Juices & Snacks   \n",
       "4                       14                Grocery                  Garden   \n",
       "\n",
       "   overall_items_freq_category  overall_items_rare_category  \\\n",
       "0                          774                            2   \n",
       "1                          295                            1   \n",
       "2                          577                            1   \n",
       "3                          168                            1   \n",
       "4                          405                            1   \n",
       "\n",
       "   overall_coverage_item  overall_coverage_brand  overall_coverage_brandt  \\\n",
       "0               0.006251                0.029486                      1.0   \n",
       "1               0.004753                0.027677                      1.0   \n",
       "2               0.005482                0.020622                      1.0   \n",
       "3               0.001688                0.013025                      1.0   \n",
       "4               0.006616                0.030391                      1.0   \n",
       "\n",
       "   overall_coverage_category  \n",
       "0                   0.473684  \n",
       "1                   0.473684  \n",
       "2                   0.421053  \n",
       "3                   0.421053  \n",
       "4                   0.736842  \n",
       "\n",
       "[5 rows x 33 columns]"
      ]
     },
     "execution_count": 9,
     "metadata": {},
     "output_type": "execute_result"
    }
   ],
   "source": [
    "customer_history = transaction_data.reset_index().groupby('customer_id').agg({\n",
    "    'item_id': ['nunique', 'count'],\n",
    "    'quantity': 'sum',\n",
    "    'selling_price': 'mean',\n",
    "    'buying_price': 'mean',\n",
    "    'other_discount': 'mean',\n",
    "    'coupon_discount': 'mean',\n",
    "    'total_discount': 'mean',\n",
    "    'selling_price_pq': 'mean',\n",
    "    'buying_price_pq': 'mean',\n",
    "    'other_discount_pq': 'mean',\n",
    "    'coupon_discount_pq': 'mean',\n",
    "    'total_discount_pq': 'mean',\n",
    "    'brand': ['nunique', most_frequent, least_frequent, most_frequent_count, least_frequent_count],\n",
    "    'brand_type': ['nunique', most_frequent, least_frequent, most_frequent_count, least_frequent_count],\n",
    "    'category': ['nunique', most_frequent, least_frequent, most_frequent_count, least_frequent_count]\n",
    "})\n",
    "customer_history.columns = ['overall_unique_items', 'overall_items', 'overall_quantity', 'overall_sprice', 'overall_bprice', 'overall_odiscount', 'overall_cdiscount', 'overall_tdiscount', 'overall_sprice_pq', 'overall_bprice_pq', 'overall_odiscount_pq', 'overall_cdiscount_pq', 'overall_tdiscount_pq', 'overall_unique_brand', 'overall_freq_brand', 'overall_rare_brand', 'overall_items_freq_brand', 'overall_items_rare_brand', 'overall_unique_brandt', 'overall_freq_brandt', 'overall_rare_brandt', 'overall_items_freq_brandt', 'overall_items_rare_brandt', 'overall_unique_category', 'overall_freq_category', 'overall_rare_category', 'overall_items_freq_category', 'overall_items_rare_category']\n",
    "customer_history['overall_coverage_item'] = customer_history['overall_unique_items'] / total_items\n",
    "customer_history['overall_coverage_brand'] = customer_history['overall_unique_brand'] / total_brands\n",
    "customer_history['overall_coverage_brandt'] = customer_history['overall_unique_brandt'] / total_brand_types\n",
    "customer_history['overall_coverage_category'] = customer_history['overall_unique_category'] / total_categories\n",
    "customer_history = customer_history.reset_index()\n",
    "customer_history.head()"
   ]
  },
  {
   "cell_type": "code",
   "execution_count": 10,
   "metadata": {},
   "outputs": [
    {
     "data": {
      "text/html": [
       "<div>\n",
       "<style scoped>\n",
       "    .dataframe tbody tr th:only-of-type {\n",
       "        vertical-align: middle;\n",
       "    }\n",
       "\n",
       "    .dataframe tbody tr th {\n",
       "        vertical-align: top;\n",
       "    }\n",
       "\n",
       "    .dataframe thead th {\n",
       "        text-align: right;\n",
       "    }\n",
       "</style>\n",
       "<table border=\"1\" class=\"dataframe\">\n",
       "  <thead>\n",
       "    <tr style=\"text-align: right;\">\n",
       "      <th></th>\n",
       "      <th>coupon_id</th>\n",
       "      <th>item_id</th>\n",
       "      <th>brand</th>\n",
       "      <th>brand_type</th>\n",
       "      <th>category</th>\n",
       "    </tr>\n",
       "  </thead>\n",
       "  <tbody>\n",
       "    <tr>\n",
       "      <th>0</th>\n",
       "      <td>105</td>\n",
       "      <td>37</td>\n",
       "      <td>56</td>\n",
       "      <td>0</td>\n",
       "      <td>Grocery</td>\n",
       "    </tr>\n",
       "    <tr>\n",
       "      <th>1</th>\n",
       "      <td>107</td>\n",
       "      <td>75</td>\n",
       "      <td>56</td>\n",
       "      <td>0</td>\n",
       "      <td>Grocery</td>\n",
       "    </tr>\n",
       "    <tr>\n",
       "      <th>2</th>\n",
       "      <td>494</td>\n",
       "      <td>76</td>\n",
       "      <td>209</td>\n",
       "      <td>1</td>\n",
       "      <td>Grocery</td>\n",
       "    </tr>\n",
       "    <tr>\n",
       "      <th>3</th>\n",
       "      <td>522</td>\n",
       "      <td>77</td>\n",
       "      <td>278</td>\n",
       "      <td>1</td>\n",
       "      <td>Grocery</td>\n",
       "    </tr>\n",
       "    <tr>\n",
       "      <th>4</th>\n",
       "      <td>518</td>\n",
       "      <td>77</td>\n",
       "      <td>278</td>\n",
       "      <td>1</td>\n",
       "      <td>Grocery</td>\n",
       "    </tr>\n",
       "  </tbody>\n",
       "</table>\n",
       "</div>"
      ],
      "text/plain": [
       "   coupon_id  item_id  brand  brand_type category\n",
       "0        105       37     56           0  Grocery\n",
       "1        107       75     56           0  Grocery\n",
       "2        494       76    209           1  Grocery\n",
       "3        522       77    278           1  Grocery\n",
       "4        518       77    278           1  Grocery"
      ]
     },
     "execution_count": 10,
     "metadata": {},
     "output_type": "execute_result"
    }
   ],
   "source": [
    "coupon_item = pd.read_csv('data/train/coupon_item_mapping.csv')\n",
    "coupon_item = coupon_item.merge(item_data, how='left', on='item_id')\n",
    "coupon_item.head()"
   ]
  },
  {
   "cell_type": "code",
   "execution_count": 11,
   "metadata": {},
   "outputs": [
    {
     "name": "stdout",
     "output_type": "stream",
     "text": [
      "<class 'pandas.core.frame.DataFrame'>\n",
      "Int64Index: 92663 entries, 105 to 31\n",
      "Data columns (total 4 columns):\n",
      "item_id       92663 non-null int64\n",
      "brand         92663 non-null int64\n",
      "brand_type    92663 non-null int64\n",
      "category      92663 non-null object\n",
      "dtypes: int64(3), object(1)\n",
      "memory usage: 3.5+ MB\n"
     ]
    }
   ],
   "source": [
    "coupon_item_2 = coupon_item.set_index('coupon_id')\n",
    "coupon_item_2.info()"
   ]
  },
  {
   "cell_type": "code",
   "execution_count": 12,
   "metadata": {},
   "outputs": [
    {
     "name": "stdout",
     "output_type": "stream",
     "text": [
      "<class 'pandas.core.frame.DataFrame'>\n",
      "Int64Index: 1116 entries, 1 to 1116\n",
      "Data columns (total 20 columns):\n",
      "c_unique_items           1116 non-null int64\n",
      "c_unique_brand           1116 non-null int64\n",
      "c_freq_brand             1116 non-null int64\n",
      "c_rare_brand             1116 non-null int64\n",
      "c_items_freq_brand       1116 non-null int64\n",
      "c_items_rare_brand       1116 non-null int64\n",
      "c_unique_brandt          1116 non-null int64\n",
      "c_freq_brandt            1116 non-null int64\n",
      "c_rare_brandt            1116 non-null int64\n",
      "c_items_freq_brandt      1116 non-null int64\n",
      "c_items_rare_brandt      1116 non-null int64\n",
      "c_unique_category        1116 non-null int64\n",
      "c_freq_category          1116 non-null object\n",
      "c_rare_category          1116 non-null object\n",
      "c_items_freq_category    1116 non-null int64\n",
      "c_items_rare_category    1116 non-null int64\n",
      "c_coverage_item          1116 non-null float64\n",
      "c_coverage_brand         1116 non-null float64\n",
      "c_coverage_brandt        1116 non-null float64\n",
      "c_coverage_category      1116 non-null float64\n",
      "dtypes: float64(4), int64(14), object(2)\n",
      "memory usage: 183.1+ KB\n"
     ]
    }
   ],
   "source": [
    "\n",
    "\n",
    "coupon_data = coupon_item.groupby('coupon_id').agg({\n",
    "    'item_id': ['nunique'],\n",
    "    'brand': ['nunique', most_frequent, least_frequent, most_frequent_count, least_frequent_count],\n",
    "    'brand_type': ['nunique', most_frequent, least_frequent, most_frequent_count, least_frequent_count],\n",
    "    'category': ['nunique', most_frequent, least_frequent, most_frequent_count, least_frequent_count]\n",
    "})\n",
    "coupon_data.columns = ['c_unique_items', 'c_unique_brand', 'c_freq_brand', 'c_rare_brand', \n",
    "                       'c_items_freq_brand', 'c_items_rare_brand', 'c_unique_brandt', 'c_freq_brandt',\n",
    "                       'c_rare_brandt', 'c_items_freq_brandt', 'c_items_rare_brandt', \n",
    "                       'c_unique_category', 'c_freq_category', 'c_rare_category', 'c_items_freq_category', \n",
    "                       'c_items_rare_category']\n",
    "coupon_data['c_coverage_item'] = coupon_data['c_unique_items'] / total_items\n",
    "coupon_data['c_coverage_brand'] = coupon_data['c_unique_brand'] / total_brands\n",
    "coupon_data['c_coverage_brandt'] = coupon_data['c_unique_brandt'] / total_brand_types\n",
    "coupon_data['c_coverage_category'] = coupon_data['c_unique_category'] / total_categories\n",
    "\n",
    "coupon_data.info()"
   ]
  },
  {
   "cell_type": "markdown",
   "metadata": {},
   "source": [
    " "
   ]
  },
  {
   "cell_type": "markdown",
   "metadata": {},
   "source": [
    " "
   ]
  },
  {
   "cell_type": "markdown",
   "metadata": {},
   "source": [
    " "
   ]
  },
  {
   "cell_type": "code",
   "execution_count": 24,
   "metadata": {},
   "outputs": [
    {
     "data": {
      "text/plain": [
       "(78369, 5)"
      ]
     },
     "execution_count": 24,
     "metadata": {},
     "output_type": "execute_result"
    }
   ],
   "source": [
    "train_data = pd.read_csv('data/train/train.csv')\n",
    "train_data.shape"
   ]
  },
  {
   "cell_type": "code",
   "execution_count": 14,
   "metadata": {},
   "outputs": [
    {
     "data": {
      "text/plain": [
       "(50226, 4)"
      ]
     },
     "execution_count": 14,
     "metadata": {},
     "output_type": "execute_result"
    }
   ],
   "source": [
    "test_data = pd.read_csv('data/test/test.csv')\n",
    "test_data.shape"
   ]
  },
  {
   "cell_type": "code",
   "execution_count": 15,
   "metadata": {},
   "outputs": [
    {
     "name": "stdout",
     "output_type": "stream",
     "text": [
      "<class 'pandas.core.frame.DataFrame'>\n",
      "Int64Index: 128595 entries, 0 to 50225\n",
      "Data columns (total 4 columns):\n",
      "campaign_id    128595 non-null int64\n",
      "coupon_id      128595 non-null int64\n",
      "customer_id    128595 non-null int64\n",
      "id             128595 non-null int64\n",
      "dtypes: int64(4)\n",
      "memory usage: 4.9 MB\n"
     ]
    }
   ],
   "source": [
    "columns = train_data.columns[train_data.columns != 'redemption_status']\n",
    "total_data = train_data[columns].append(test_data, sort=True)\n",
    "total_data.info()"
   ]
  },
  {
   "cell_type": "code",
   "execution_count": 16,
   "metadata": {},
   "outputs": [
    {
     "name": "stdout",
     "output_type": "stream",
     "text": [
      "<class 'pandas.core.frame.DataFrame'>\n",
      "Int64Index: 128595 entries, 0 to 128594\n",
      "Data columns (total 66 columns):\n",
      "campaign_id                    128595 non-null int64\n",
      "coupon_id                      128595 non-null int64\n",
      "customer_id                    128595 non-null int64\n",
      "id                             128595 non-null int64\n",
      "campaign_type                  128595 non-null int64\n",
      "start_date                     128595 non-null datetime64[ns]\n",
      "end_date                       128595 non-null datetime64[ns]\n",
      "duration                       128595 non-null int64\n",
      "age_range                      74600 non-null object\n",
      "marital_status                 74600 non-null float64\n",
      "rented                         74600 non-null float64\n",
      "family_size                    74600 non-null float64\n",
      "no_of_children                 74600 non-null float64\n",
      "income_bracket                 74600 non-null float64\n",
      "c_unique_items                 128595 non-null int64\n",
      "c_unique_brand                 128595 non-null int64\n",
      "c_freq_brand                   128595 non-null int64\n",
      "c_rare_brand                   128595 non-null int64\n",
      "c_items_freq_brand             128595 non-null int64\n",
      "c_items_rare_brand             128595 non-null int64\n",
      "c_unique_brandt                128595 non-null int64\n",
      "c_freq_brandt                  128595 non-null int64\n",
      "c_rare_brandt                  128595 non-null int64\n",
      "c_items_freq_brandt            128595 non-null int64\n",
      "c_items_rare_brandt            128595 non-null int64\n",
      "c_unique_category              128595 non-null int64\n",
      "c_freq_category                128595 non-null object\n",
      "c_rare_category                128595 non-null object\n",
      "c_items_freq_category          128595 non-null int64\n",
      "c_items_rare_category          128595 non-null int64\n",
      "c_coverage_item                128595 non-null float64\n",
      "c_coverage_brand               128595 non-null float64\n",
      "c_coverage_brandt              128595 non-null float64\n",
      "c_coverage_category            128595 non-null float64\n",
      "overall_unique_items           128595 non-null int64\n",
      "overall_items                  128595 non-null int64\n",
      "overall_quantity               128595 non-null int64\n",
      "overall_sprice                 128595 non-null float64\n",
      "overall_bprice                 128595 non-null float64\n",
      "overall_odiscount              128595 non-null float64\n",
      "overall_cdiscount              128595 non-null float64\n",
      "overall_tdiscount              128595 non-null float64\n",
      "overall_sprice_pq              128595 non-null float64\n",
      "overall_bprice_pq              128595 non-null float64\n",
      "overall_odiscount_pq           128595 non-null float64\n",
      "overall_cdiscount_pq           128595 non-null float64\n",
      "overall_tdiscount_pq           128595 non-null float64\n",
      "overall_unique_brand           128595 non-null int64\n",
      "overall_freq_brand             128595 non-null int64\n",
      "overall_rare_brand             128595 non-null int64\n",
      "overall_items_freq_brand       128595 non-null int64\n",
      "overall_items_rare_brand       128595 non-null int64\n",
      "overall_unique_brandt          128595 non-null int64\n",
      "overall_freq_brandt            128595 non-null int64\n",
      "overall_rare_brandt            128595 non-null int64\n",
      "overall_items_freq_brandt      128595 non-null int64\n",
      "overall_items_rare_brandt      128595 non-null int64\n",
      "overall_unique_category        128595 non-null int64\n",
      "overall_freq_category          128595 non-null object\n",
      "overall_rare_category          128595 non-null object\n",
      "overall_items_freq_category    128595 non-null int64\n",
      "overall_items_rare_category    128595 non-null int64\n",
      "overall_coverage_item          128595 non-null float64\n",
      "overall_coverage_brand         128595 non-null float64\n",
      "overall_coverage_brandt        128595 non-null float64\n",
      "overall_coverage_category      128595 non-null float64\n",
      "dtypes: datetime64[ns](2), float64(23), int64(36), object(5)\n",
      "memory usage: 65.7+ MB\n"
     ]
    }
   ],
   "source": [
    "total_data = total_data.merge(campaign_data, on='campaign_id', how='left')\n",
    "total_data = total_data.merge(customer_data, on='customer_id', how='left')\n",
    "total_data = total_data.merge(coupon_data, on='coupon_id', how='left')\n",
    "total_data = total_data.merge(customer_history, on='customer_id', how='left')\n",
    "total_data.info()"
   ]
  },
  {
   "cell_type": "code",
   "execution_count": 17,
   "metadata": {},
   "outputs": [],
   "source": [
    "range_start_delta = pd.Timedelta('223 days')\n",
    "range_end_delta = pd.Timedelta('110 days')\n",
    "\n",
    "def extract_range_features(row):\n",
    "    start_time = pd.Timestamp(campaign_data_2.loc[row.campaign_id].start_date)\n",
    "    range_start, range_end = start_time - range_start_delta, start_time - range_end_delta\n",
    "    items = pd.Series(coupon_item_2.loc[row.coupon_id].item_id)\n",
    "\n",
    "    overall_history = transaction_data.loc[row.customer_id]\n",
    "    history = overall_history[range_start:range_end]\n",
    "    overall_coupon_history = overall_history[overall_history.item_id.isin(items)]\n",
    "    coupon_history = history[history.item_id.isin(items)]\n",
    "\n",
    "    for df_name, df in [('overall_coupon_', overall_coupon_history), ('range_', history), ('range_coupon_', coupon_history)]:\n",
    "        row[df_name+'unique_items'] = df['item_id'].nunique()\n",
    "        row[df_name+'items'] = df['item_id'].count()\n",
    "        row[df_name+'quantity'] = df['quantity'].sum()\n",
    "        \n",
    "        for new_name, old_name in [('sprice', 'selling_price'), ('bprice', 'buying_price'), ('odiscount', 'other_discount'), ('cdiscount', 'coupon_discount'), ('tdiscount', 'total_discount'), ('sprice_pq', 'selling_price_pq'), ('bprice_pq', 'buying_price_pq'), ('odiscount_pq', 'other_discount_pq'), ('cdiscount_pq', 'coupon_discount_pq'), ('tdiscount_pq', 'total_discount_pq')]:\n",
    "            row[df_name+''+new_name] = df[old_name].mean()\n",
    "        \n",
    "        for new_name, old_name in [('brand', 'brand'), ('brandt', 'brand_type'), ('category','category')]:\n",
    "            unique_count = df[old_name].nunique()\n",
    "            row[df_name+'unique_'+new_name] = unique_count\n",
    "            \n",
    "            if unique_count == 0:\n",
    "                row[df_name+'items_freq_'+new_name] = 0\n",
    "                row[df_name+'items_rare_'+new_name] = 0\n",
    "                row[df_name+'freq_'+new_name] = np.NaN\n",
    "                row[df_name+'rare_'+new_name] = np.NaN\n",
    "            else:\n",
    "                freq = most_frequent(df[old_name])\n",
    "                row[df_name+'freq_'+new_name] = freq\n",
    "                row[df_name+'items_freq_'+new_name] = df[df[old_name] == freq]['item_id'].nunique()\n",
    "\n",
    "                rare = least_frequent(df[old_name])\n",
    "                row[df_name+'rare_'+new_name] = rare\n",
    "                row[df_name+'items_rare_'+new_name] = df[df[old_name] == rare]['item_id'].nunique()\n",
    "            \n",
    "        row[df_name+'coverage_item'] = row[df_name+'unique_items'] / total_items\n",
    "        row[df_name+'coverage_brand'] = row[df_name+'unique_brand'] / total_brands\n",
    "        row[df_name+'coverage_brandt'] = row[df_name+'unique_brandt'] / total_brand_types\n",
    "        row[df_name+'coverage_category'] = row[df_name+'unique_category'] / total_categories\n",
    "        \n",
    "    return row\n",
    "\n",
    "def apply_range_features(df):\n",
    "    return df.apply(extract_range_features, axis=1)"
   ]
  },
  {
   "cell_type": "code",
   "execution_count": 18,
   "metadata": {},
   "outputs": [
    {
     "name": "stdout",
     "output_type": "stream",
     "text": [
      "<class 'pandas.core.frame.DataFrame'>\n",
      "Int64Index: 128595 entries, 0 to 128594\n",
      "Columns: 162 entries, age_range to start_date\n",
      "dtypes: datetime64[ns](2), float64(73), int64(76), object(11)\n",
      "memory usage: 159.9+ MB\n"
     ]
    }
   ],
   "source": [
    "total_data = parallelize_dataframe(total_data, apply_range_features, n_cores=3)\n",
    "# total_data = apply_range_features(total_data.head(5))\n",
    "total_data.info()"
   ]
  },
  {
   "cell_type": "code",
   "execution_count": 19,
   "metadata": {},
   "outputs": [
    {
     "name": "stdout",
     "output_type": "stream",
     "text": [
      "<class 'pandas.core.frame.DataFrame'>\n",
      "Int64Index: 128595 entries, 0 to 128594\n",
      "Columns: 230 entries, age_range to match_rare_category\n",
      "dtypes: datetime64[ns](2), float64(113), int64(104), object(11)\n",
      "memory usage: 226.6+ MB\n"
     ]
    }
   ],
   "source": [
    "# Deriving more variables from existing\n",
    "for column in ['unique_items', 'items', 'quantity', 'sprice', 'bprice', 'odiscount', 'cdiscount', 'tdiscount', 'sprice_pq', 'bprice_pq', 'odiscount_pq', 'cdiscount_pq', 'tdiscount_pq', 'unique_brand', 'unique_brandt', 'unique_category', 'coverage_brand', 'coverage_category']:\n",
    "    total_data['diff_overall_'+column] = total_data['overall_'+column] - total_data['overall_coupon_'+column]\n",
    "    total_data['diff_range_'+column] = total_data['range_'+column] - total_data['range_coupon_'+column]\n",
    "    total_data['diff_coupon_'+column] = total_data['overall_coupon_'+column] - total_data['range_coupon_'+column]\n",
    "\n",
    "for column in ['unique_items', 'unique_brand', 'unique_brandt', 'unique_category', 'coverage_item', 'coverage_brand', 'coverage_brandt', 'coverage_category']:\n",
    "    total_data['c_diff_'+column] = total_data['c_'+column] - total_data['range_coupon_'+column]\n",
    "    \n",
    "for column in ['freq_brand', 'rare_brand', 'freq_brandt', 'rare_brandt', 'freq_category', 'rare_category']:\n",
    "    total_data['match_'+column] = (total_data['c_'+column] == total_data['range_coupon_'+column]).astype('int')\n",
    "    \n",
    "total_data.info()"
   ]
  },
  {
   "cell_type": "markdown",
   "metadata": {},
   "source": [
    " "
   ]
  },
  {
   "cell_type": "code",
   "execution_count": 29,
   "metadata": {},
   "outputs": [
    {
     "name": "stdout",
     "output_type": "stream",
     "text": [
      "<class 'pandas.core.frame.DataFrame'>\n",
      "Int64Index: 50226 entries, 0 to 50225\n",
      "Columns: 231 entries, id to redemption_ratio\n",
      "dtypes: datetime64[ns](2), float64(114), int64(104), object(11)\n",
      "memory usage: 88.9+ MB\n"
     ]
    }
   ],
   "source": [
    "test_data = test_data[['id']].merge(total_data, on='id', how='left')\n",
    "test_data.info()"
   ]
  },
  {
   "cell_type": "code",
   "execution_count": 30,
   "metadata": {},
   "outputs": [],
   "source": [
    "test_data.to_csv('data/test/test_feature.csv', index=False)"
   ]
  },
  {
   "cell_type": "code",
   "execution_count": 31,
   "metadata": {},
   "outputs": [
    {
     "name": "stdout",
     "output_type": "stream",
     "text": [
      "<class 'pandas.core.frame.DataFrame'>\n",
      "Int64Index: 78369 entries, 0 to 78368\n",
      "Columns: 232 entries, id to redemption_ratio\n",
      "dtypes: datetime64[ns](2), float64(114), int64(105), object(11)\n",
      "memory usage: 139.3+ MB\n"
     ]
    }
   ],
   "source": [
    "train_data = train_data[['id','redemption_status']].merge(total_data, on='id', how='left')\n",
    "train_data.info()"
   ]
  },
  {
   "cell_type": "code",
   "execution_count": 32,
   "metadata": {},
   "outputs": [],
   "source": [
    "train_data.to_csv('data/train/train_feature.csv', index=False)"
   ]
  }
 ],
 "metadata": {
  "kernelspec": {
   "display_name": "Python 3",
   "language": "python",
   "name": "python3"
  },
  "language_info": {
   "codemirror_mode": {
    "name": "ipython",
    "version": 3
   },
   "file_extension": ".py",
   "mimetype": "text/x-python",
   "name": "python",
   "nbconvert_exporter": "python",
   "pygments_lexer": "ipython3",
   "version": "3.7.3"
  }
 },
 "nbformat": 4,
 "nbformat_minor": 2
}
