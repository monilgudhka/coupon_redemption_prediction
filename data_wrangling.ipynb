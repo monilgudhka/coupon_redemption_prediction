{
 "cells": [
  {
   "cell_type": "code",
   "execution_count": 1,
   "metadata": {},
   "outputs": [],
   "source": [
    "import numpy as np\n",
    "import pandas as pd\n",
    "import matplotlib.pyplot as plt\n",
    "from multiprocessing import  Pool"
   ]
  },
  {
   "cell_type": "code",
   "execution_count": 2,
   "metadata": {},
   "outputs": [],
   "source": [
    "def most_frequent(s):\n",
    "    return s.value_counts().index[0]\n",
    "\n",
    "def least_frequent(s):\n",
    "    return s.value_counts().index[-1]\n",
    "\n",
    "def most_frequent_count(s):\n",
    "    return s.value_counts().values[0]\n",
    "\n",
    "def least_frequent_count(s):\n",
    "    return s.value_counts().values[-1]\n",
    "\n",
    "def parallelize_dataframe(df, func, n_cores=4):\n",
    "    df_split = np.array_split(df, n_cores)\n",
    "    pool = Pool(n_cores)\n",
    "    df = pd.concat(pool.map(func, df_split))\n",
    "    pool.close()\n",
    "    pool.join()\n",
    "    return df"
   ]
  },
  {
   "cell_type": "markdown",
   "metadata": {},
   "source": [
    " "
   ]
  },
  {
   "cell_type": "markdown",
   "metadata": {},
   "source": [
    "# Data Cleaning"
   ]
  },
  {
   "cell_type": "markdown",
   "metadata": {},
   "source": [
    "### Item Information"
   ]
  },
  {
   "cell_type": "code",
   "execution_count": 3,
   "metadata": {},
   "outputs": [
    {
     "data": {
      "text/html": [
       "<div>\n",
       "<style scoped>\n",
       "    .dataframe tbody tr th:only-of-type {\n",
       "        vertical-align: middle;\n",
       "    }\n",
       "\n",
       "    .dataframe tbody tr th {\n",
       "        vertical-align: top;\n",
       "    }\n",
       "\n",
       "    .dataframe thead th {\n",
       "        text-align: right;\n",
       "    }\n",
       "</style>\n",
       "<table border=\"1\" class=\"dataframe\">\n",
       "  <thead>\n",
       "    <tr style=\"text-align: right;\">\n",
       "      <th></th>\n",
       "      <th>item_id</th>\n",
       "      <th>brand</th>\n",
       "      <th>brand_type</th>\n",
       "      <th>category</th>\n",
       "    </tr>\n",
       "  </thead>\n",
       "  <tbody>\n",
       "    <tr>\n",
       "      <th>0</th>\n",
       "      <td>1</td>\n",
       "      <td>1</td>\n",
       "      <td>1</td>\n",
       "      <td>Grocery</td>\n",
       "    </tr>\n",
       "    <tr>\n",
       "      <th>1</th>\n",
       "      <td>2</td>\n",
       "      <td>1</td>\n",
       "      <td>1</td>\n",
       "      <td>Miscellaneous</td>\n",
       "    </tr>\n",
       "    <tr>\n",
       "      <th>2</th>\n",
       "      <td>3</td>\n",
       "      <td>56</td>\n",
       "      <td>0</td>\n",
       "      <td>Bakery</td>\n",
       "    </tr>\n",
       "    <tr>\n",
       "      <th>3</th>\n",
       "      <td>4</td>\n",
       "      <td>56</td>\n",
       "      <td>0</td>\n",
       "      <td>Grocery</td>\n",
       "    </tr>\n",
       "    <tr>\n",
       "      <th>4</th>\n",
       "      <td>5</td>\n",
       "      <td>56</td>\n",
       "      <td>0</td>\n",
       "      <td>Grocery</td>\n",
       "    </tr>\n",
       "  </tbody>\n",
       "</table>\n",
       "</div>"
      ],
      "text/plain": [
       "   item_id  brand  brand_type       category\n",
       "0        1      1           1        Grocery\n",
       "1        2      1           1  Miscellaneous\n",
       "2        3     56           0         Bakery\n",
       "3        4     56           0        Grocery\n",
       "4        5     56           0        Grocery"
      ]
     },
     "execution_count": 3,
     "metadata": {},
     "output_type": "execute_result"
    }
   ],
   "source": [
    "item_data = pd.read_csv('data/train/item_data.csv')\n",
    "item_data['brand_type'] = item_data['brand_type'].replace({'Established': 1, 'Local': 0})\n",
    "item_data.head()"
   ]
  },
  {
   "cell_type": "code",
   "execution_count": 4,
   "metadata": {},
   "outputs": [
    {
     "name": "stdout",
     "output_type": "stream",
     "text": [
      "<class 'pandas.core.frame.DataFrame'>\n",
      "RangeIndex: 74066 entries, 0 to 74065\n",
      "Data columns (total 4 columns):\n",
      "item_id       74066 non-null int64\n",
      "brand         74066 non-null int64\n",
      "brand_type    74066 non-null int64\n",
      "category      74066 non-null object\n",
      "dtypes: int64(3), object(1)\n",
      "memory usage: 2.3+ MB\n"
     ]
    }
   ],
   "source": [
    "item_data.info()"
   ]
  },
  {
   "cell_type": "code",
   "execution_count": 5,
   "metadata": {},
   "outputs": [
    {
     "name": "stdout",
     "output_type": "stream",
     "text": [
      "total_items: 74066\n",
      "total_brands: 5528\n",
      "total_brand_types: 2\n",
      "total_categories: 19\n"
     ]
    }
   ],
   "source": [
    "total_items = item_data['item_id'].nunique()\n",
    "total_brands= item_data['brand'].nunique()\n",
    "total_brand_types = item_data['brand_type'].nunique()\n",
    "total_categories = item_data['category'].nunique()\n",
    "\n",
    "print(\"total_items: {}\".format(total_items))\n",
    "print(\"total_brands: {}\".format(total_brands))\n",
    "print(\"total_brand_types: {}\".format(total_brand_types))\n",
    "print(\"total_categories: {}\".format(total_categories))"
   ]
  },
  {
   "cell_type": "markdown",
   "metadata": {},
   "source": [
    "### Campaign Information"
   ]
  },
  {
   "cell_type": "code",
   "execution_count": 6,
   "metadata": {},
   "outputs": [
    {
     "data": {
      "text/html": [
       "<div>\n",
       "<style scoped>\n",
       "    .dataframe tbody tr th:only-of-type {\n",
       "        vertical-align: middle;\n",
       "    }\n",
       "\n",
       "    .dataframe tbody tr th {\n",
       "        vertical-align: top;\n",
       "    }\n",
       "\n",
       "    .dataframe thead th {\n",
       "        text-align: right;\n",
       "    }\n",
       "</style>\n",
       "<table border=\"1\" class=\"dataframe\">\n",
       "  <thead>\n",
       "    <tr style=\"text-align: right;\">\n",
       "      <th></th>\n",
       "      <th>campaign_id</th>\n",
       "      <th>campaign_type</th>\n",
       "      <th>start_date</th>\n",
       "      <th>end_date</th>\n",
       "    </tr>\n",
       "  </thead>\n",
       "  <tbody>\n",
       "    <tr>\n",
       "      <th>0</th>\n",
       "      <td>24</td>\n",
       "      <td>Y</td>\n",
       "      <td>2013-10-21</td>\n",
       "      <td>2013-12-20</td>\n",
       "    </tr>\n",
       "    <tr>\n",
       "      <th>1</th>\n",
       "      <td>25</td>\n",
       "      <td>Y</td>\n",
       "      <td>2013-10-21</td>\n",
       "      <td>2013-11-22</td>\n",
       "    </tr>\n",
       "    <tr>\n",
       "      <th>2</th>\n",
       "      <td>20</td>\n",
       "      <td>Y</td>\n",
       "      <td>2013-09-07</td>\n",
       "      <td>2013-11-16</td>\n",
       "    </tr>\n",
       "    <tr>\n",
       "      <th>3</th>\n",
       "      <td>23</td>\n",
       "      <td>Y</td>\n",
       "      <td>2013-10-08</td>\n",
       "      <td>2013-11-15</td>\n",
       "    </tr>\n",
       "    <tr>\n",
       "      <th>4</th>\n",
       "      <td>21</td>\n",
       "      <td>Y</td>\n",
       "      <td>2013-09-16</td>\n",
       "      <td>2013-10-18</td>\n",
       "    </tr>\n",
       "  </tbody>\n",
       "</table>\n",
       "</div>"
      ],
      "text/plain": [
       "   campaign_id campaign_type start_date   end_date\n",
       "0           24             Y 2013-10-21 2013-12-20\n",
       "1           25             Y 2013-10-21 2013-11-22\n",
       "2           20             Y 2013-09-07 2013-11-16\n",
       "3           23             Y 2013-10-08 2013-11-15\n",
       "4           21             Y 2013-09-16 2013-10-18"
      ]
     },
     "execution_count": 6,
     "metadata": {},
     "output_type": "execute_result"
    }
   ],
   "source": [
    "campaign_data = pd.read_csv('data/train/campaign_data.csv', parse_dates=['start_date', 'end_date'], dayfirst=True)\n",
    "campaign_data.head()"
   ]
  },
  {
   "cell_type": "code",
   "execution_count": 7,
   "metadata": {},
   "outputs": [
    {
     "name": "stdout",
     "output_type": "stream",
     "text": [
      "<class 'pandas.core.frame.DataFrame'>\n",
      "RangeIndex: 28 entries, 0 to 27\n",
      "Data columns (total 5 columns):\n",
      "campaign_id      28 non-null int64\n",
      "campaign_type    28 non-null int64\n",
      "start_date       28 non-null datetime64[ns]\n",
      "end_date         28 non-null datetime64[ns]\n",
      "duration         28 non-null int64\n",
      "dtypes: datetime64[ns](2), int64(3)\n",
      "memory usage: 1.2 KB\n"
     ]
    }
   ],
   "source": [
    "campaign_data['campaign_type'] = campaign_data['campaign_type'].replace({'X': 0, 'Y': 1})\n",
    "campaign_data['duration'] = (campaign_data['end_date'] - campaign_data['start_date']).dt.days\n",
    "campaign_data.info()"
   ]
  },
  {
   "cell_type": "code",
   "execution_count": 8,
   "metadata": {},
   "outputs": [
    {
     "name": "stdout",
     "output_type": "stream",
     "text": [
      "<class 'pandas.core.frame.DataFrame'>\n",
      "Int64Index: 28 entries, 24 to 26\n",
      "Data columns (total 4 columns):\n",
      "campaign_type    28 non-null int64\n",
      "start_date       28 non-null datetime64[ns]\n",
      "end_date         28 non-null datetime64[ns]\n",
      "duration         28 non-null int64\n",
      "dtypes: datetime64[ns](2), int64(2)\n",
      "memory usage: 1.1 KB\n"
     ]
    }
   ],
   "source": [
    "campaign_data_index = campaign_data.set_index('campaign_id')\n",
    "campaign_data_index.info()"
   ]
  },
  {
   "cell_type": "markdown",
   "metadata": {},
   "source": [
    "### Customer Information"
   ]
  },
  {
   "cell_type": "code",
   "execution_count": 9,
   "metadata": {},
   "outputs": [
    {
     "data": {
      "text/html": [
       "<div>\n",
       "<style scoped>\n",
       "    .dataframe tbody tr th:only-of-type {\n",
       "        vertical-align: middle;\n",
       "    }\n",
       "\n",
       "    .dataframe tbody tr th {\n",
       "        vertical-align: top;\n",
       "    }\n",
       "\n",
       "    .dataframe thead th {\n",
       "        text-align: right;\n",
       "    }\n",
       "</style>\n",
       "<table border=\"1\" class=\"dataframe\">\n",
       "  <thead>\n",
       "    <tr style=\"text-align: right;\">\n",
       "      <th></th>\n",
       "      <th>customer_id</th>\n",
       "      <th>age_range</th>\n",
       "      <th>marital_status</th>\n",
       "      <th>rented</th>\n",
       "      <th>family_size</th>\n",
       "      <th>no_of_children</th>\n",
       "      <th>income_bracket</th>\n",
       "    </tr>\n",
       "  </thead>\n",
       "  <tbody>\n",
       "    <tr>\n",
       "      <th>0</th>\n",
       "      <td>1</td>\n",
       "      <td>70+</td>\n",
       "      <td>Married</td>\n",
       "      <td>0</td>\n",
       "      <td>2</td>\n",
       "      <td>NaN</td>\n",
       "      <td>4</td>\n",
       "    </tr>\n",
       "    <tr>\n",
       "      <th>1</th>\n",
       "      <td>6</td>\n",
       "      <td>46-55</td>\n",
       "      <td>Married</td>\n",
       "      <td>0</td>\n",
       "      <td>2</td>\n",
       "      <td>NaN</td>\n",
       "      <td>5</td>\n",
       "    </tr>\n",
       "    <tr>\n",
       "      <th>2</th>\n",
       "      <td>7</td>\n",
       "      <td>26-35</td>\n",
       "      <td>NaN</td>\n",
       "      <td>0</td>\n",
       "      <td>3</td>\n",
       "      <td>1</td>\n",
       "      <td>3</td>\n",
       "    </tr>\n",
       "    <tr>\n",
       "      <th>3</th>\n",
       "      <td>8</td>\n",
       "      <td>26-35</td>\n",
       "      <td>NaN</td>\n",
       "      <td>0</td>\n",
       "      <td>4</td>\n",
       "      <td>2</td>\n",
       "      <td>6</td>\n",
       "    </tr>\n",
       "    <tr>\n",
       "      <th>4</th>\n",
       "      <td>10</td>\n",
       "      <td>46-55</td>\n",
       "      <td>Single</td>\n",
       "      <td>0</td>\n",
       "      <td>1</td>\n",
       "      <td>NaN</td>\n",
       "      <td>5</td>\n",
       "    </tr>\n",
       "  </tbody>\n",
       "</table>\n",
       "</div>"
      ],
      "text/plain": [
       "   customer_id age_range marital_status  rented family_size no_of_children  \\\n",
       "0            1       70+        Married       0           2            NaN   \n",
       "1            6     46-55        Married       0           2            NaN   \n",
       "2            7     26-35            NaN       0           3              1   \n",
       "3            8     26-35            NaN       0           4              2   \n",
       "4           10     46-55         Single       0           1            NaN   \n",
       "\n",
       "   income_bracket  \n",
       "0               4  \n",
       "1               5  \n",
       "2               3  \n",
       "3               6  \n",
       "4               5  "
      ]
     },
     "execution_count": 9,
     "metadata": {},
     "output_type": "execute_result"
    }
   ],
   "source": [
    "customer_data = pd.read_csv('data/train/customer_demographics.csv')\n",
    "customer_data.head()"
   ]
  },
  {
   "cell_type": "code",
   "execution_count": 10,
   "metadata": {},
   "outputs": [
    {
     "name": "stdout",
     "output_type": "stream",
     "text": [
      "<class 'pandas.core.frame.DataFrame'>\n",
      "RangeIndex: 760 entries, 0 to 759\n",
      "Data columns (total 7 columns):\n",
      "customer_id       760 non-null int64\n",
      "age_range         760 non-null object\n",
      "marital_status    431 non-null object\n",
      "rented            760 non-null int64\n",
      "family_size       760 non-null object\n",
      "no_of_children    222 non-null object\n",
      "income_bracket    760 non-null int64\n",
      "dtypes: int64(3), object(4)\n",
      "memory usage: 41.6+ KB\n"
     ]
    }
   ],
   "source": [
    "customer_data.info()"
   ]
  },
  {
   "cell_type": "markdown",
   "metadata": {},
   "source": [
    "Filling the missing values in customer informations"
   ]
  },
  {
   "cell_type": "code",
   "execution_count": 11,
   "metadata": {},
   "outputs": [
    {
     "data": {
      "text/html": [
       "<div>\n",
       "<style scoped>\n",
       "    .dataframe tbody tr th:only-of-type {\n",
       "        vertical-align: middle;\n",
       "    }\n",
       "\n",
       "    .dataframe tbody tr th {\n",
       "        vertical-align: top;\n",
       "    }\n",
       "\n",
       "    .dataframe thead th {\n",
       "        text-align: right;\n",
       "    }\n",
       "</style>\n",
       "<table border=\"1\" class=\"dataframe\">\n",
       "  <thead>\n",
       "    <tr style=\"text-align: right;\">\n",
       "      <th></th>\n",
       "      <th>customer_id</th>\n",
       "      <th>age_range</th>\n",
       "      <th>marital_status</th>\n",
       "      <th>rented</th>\n",
       "      <th>family_size</th>\n",
       "      <th>no_of_children</th>\n",
       "      <th>income_bracket</th>\n",
       "    </tr>\n",
       "  </thead>\n",
       "  <tbody>\n",
       "    <tr>\n",
       "      <th>0</th>\n",
       "      <td>1</td>\n",
       "      <td>70+</td>\n",
       "      <td>1</td>\n",
       "      <td>0</td>\n",
       "      <td>2</td>\n",
       "      <td>0</td>\n",
       "      <td>4</td>\n",
       "    </tr>\n",
       "    <tr>\n",
       "      <th>1</th>\n",
       "      <td>6</td>\n",
       "      <td>46-55</td>\n",
       "      <td>1</td>\n",
       "      <td>0</td>\n",
       "      <td>2</td>\n",
       "      <td>0</td>\n",
       "      <td>5</td>\n",
       "    </tr>\n",
       "    <tr>\n",
       "      <th>2</th>\n",
       "      <td>7</td>\n",
       "      <td>26-35</td>\n",
       "      <td>1</td>\n",
       "      <td>0</td>\n",
       "      <td>3</td>\n",
       "      <td>1</td>\n",
       "      <td>3</td>\n",
       "    </tr>\n",
       "    <tr>\n",
       "      <th>3</th>\n",
       "      <td>8</td>\n",
       "      <td>26-35</td>\n",
       "      <td>1</td>\n",
       "      <td>0</td>\n",
       "      <td>4</td>\n",
       "      <td>2</td>\n",
       "      <td>6</td>\n",
       "    </tr>\n",
       "    <tr>\n",
       "      <th>4</th>\n",
       "      <td>10</td>\n",
       "      <td>46-55</td>\n",
       "      <td>0</td>\n",
       "      <td>0</td>\n",
       "      <td>1</td>\n",
       "      <td>0</td>\n",
       "      <td>5</td>\n",
       "    </tr>\n",
       "  </tbody>\n",
       "</table>\n",
       "</div>"
      ],
      "text/plain": [
       "   customer_id age_range  marital_status  rented  family_size  no_of_children  \\\n",
       "0            1       70+               1       0            2               0   \n",
       "1            6     46-55               1       0            2               0   \n",
       "2            7     26-35               1       0            3               1   \n",
       "3            8     26-35               1       0            4               2   \n",
       "4           10     46-55               0       0            1               0   \n",
       "\n",
       "   income_bracket  \n",
       "0               4  \n",
       "1               5  \n",
       "2               3  \n",
       "3               6  \n",
       "4               5  "
      ]
     },
     "execution_count": 11,
     "metadata": {},
     "output_type": "execute_result"
    }
   ],
   "source": [
    "def get_marital_status(row):\n",
    "    na_row = row.isna()\n",
    "    if not na_row['marital_status']:\n",
    "        return row['marital_status']\n",
    "    return 'Married' if row['family_size'] - row['no_of_children'] > 1 else 'Single'\n",
    "\n",
    "customer_data['family_size'] = customer_data['family_size'].str.replace('+','').astype('int')\n",
    "customer_data['no_of_children'] = customer_data['no_of_children'].fillna('0').str.replace('+','').astype('int')\n",
    "customer_data['marital_status'] = customer_data.apply(get_marital_status, axis=1)\n",
    "customer_data['marital_status'] = customer_data['marital_status'].replace({'Single': 0, 'Married': 1})\n",
    "\n",
    "customer_data.head()"
   ]
  },
  {
   "cell_type": "code",
   "execution_count": 12,
   "metadata": {},
   "outputs": [
    {
     "name": "stdout",
     "output_type": "stream",
     "text": [
      "<class 'pandas.core.frame.DataFrame'>\n",
      "RangeIndex: 760 entries, 0 to 759\n",
      "Data columns (total 7 columns):\n",
      "customer_id       760 non-null int64\n",
      "age_range         760 non-null object\n",
      "marital_status    760 non-null int64\n",
      "rented            760 non-null int64\n",
      "family_size       760 non-null int64\n",
      "no_of_children    760 non-null int64\n",
      "income_bracket    760 non-null int64\n",
      "dtypes: int64(6), object(1)\n",
      "memory usage: 41.6+ KB\n"
     ]
    }
   ],
   "source": [
    "customer_data.info()"
   ]
  },
  {
   "cell_type": "markdown",
   "metadata": {},
   "source": [
    "### Customer Transactions"
   ]
  },
  {
   "cell_type": "code",
   "execution_count": 13,
   "metadata": {},
   "outputs": [
    {
     "data": {
      "text/html": [
       "<div>\n",
       "<style scoped>\n",
       "    .dataframe tbody tr th:only-of-type {\n",
       "        vertical-align: middle;\n",
       "    }\n",
       "\n",
       "    .dataframe tbody tr th {\n",
       "        vertical-align: top;\n",
       "    }\n",
       "\n",
       "    .dataframe thead th {\n",
       "        text-align: right;\n",
       "    }\n",
       "</style>\n",
       "<table border=\"1\" class=\"dataframe\">\n",
       "  <thead>\n",
       "    <tr style=\"text-align: right;\">\n",
       "      <th></th>\n",
       "      <th>date</th>\n",
       "      <th>customer_id</th>\n",
       "      <th>item_id</th>\n",
       "      <th>quantity</th>\n",
       "      <th>selling_price</th>\n",
       "      <th>other_discount</th>\n",
       "      <th>coupon_discount</th>\n",
       "    </tr>\n",
       "  </thead>\n",
       "  <tbody>\n",
       "    <tr>\n",
       "      <th>0</th>\n",
       "      <td>2012-01-02</td>\n",
       "      <td>1501</td>\n",
       "      <td>26830</td>\n",
       "      <td>1</td>\n",
       "      <td>35.26</td>\n",
       "      <td>-10.69</td>\n",
       "      <td>0.0</td>\n",
       "    </tr>\n",
       "    <tr>\n",
       "      <th>1</th>\n",
       "      <td>2012-01-02</td>\n",
       "      <td>1501</td>\n",
       "      <td>54253</td>\n",
       "      <td>1</td>\n",
       "      <td>53.43</td>\n",
       "      <td>-13.89</td>\n",
       "      <td>0.0</td>\n",
       "    </tr>\n",
       "    <tr>\n",
       "      <th>2</th>\n",
       "      <td>2012-01-02</td>\n",
       "      <td>1501</td>\n",
       "      <td>31962</td>\n",
       "      <td>1</td>\n",
       "      <td>106.50</td>\n",
       "      <td>-14.25</td>\n",
       "      <td>0.0</td>\n",
       "    </tr>\n",
       "    <tr>\n",
       "      <th>3</th>\n",
       "      <td>2012-01-02</td>\n",
       "      <td>1501</td>\n",
       "      <td>33647</td>\n",
       "      <td>1</td>\n",
       "      <td>67.32</td>\n",
       "      <td>0.00</td>\n",
       "      <td>0.0</td>\n",
       "    </tr>\n",
       "    <tr>\n",
       "      <th>4</th>\n",
       "      <td>2012-01-02</td>\n",
       "      <td>1501</td>\n",
       "      <td>48199</td>\n",
       "      <td>1</td>\n",
       "      <td>71.24</td>\n",
       "      <td>-28.14</td>\n",
       "      <td>0.0</td>\n",
       "    </tr>\n",
       "  </tbody>\n",
       "</table>\n",
       "</div>"
      ],
      "text/plain": [
       "        date  customer_id  item_id  quantity  selling_price  other_discount  \\\n",
       "0 2012-01-02         1501    26830         1          35.26          -10.69   \n",
       "1 2012-01-02         1501    54253         1          53.43          -13.89   \n",
       "2 2012-01-02         1501    31962         1         106.50          -14.25   \n",
       "3 2012-01-02         1501    33647         1          67.32            0.00   \n",
       "4 2012-01-02         1501    48199         1          71.24          -28.14   \n",
       "\n",
       "   coupon_discount  \n",
       "0              0.0  \n",
       "1              0.0  \n",
       "2              0.0  \n",
       "3              0.0  \n",
       "4              0.0  "
      ]
     },
     "execution_count": 13,
     "metadata": {},
     "output_type": "execute_result"
    }
   ],
   "source": [
    "transaction_data = pd.read_csv('data/train/customer_transaction_data.csv', parse_dates=['date'])\n",
    "transaction_data.head()"
   ]
  },
  {
   "cell_type": "code",
   "execution_count": 14,
   "metadata": {},
   "outputs": [
    {
     "name": "stdout",
     "output_type": "stream",
     "text": [
      "<class 'pandas.core.frame.DataFrame'>\n",
      "RangeIndex: 1324566 entries, 0 to 1324565\n",
      "Data columns (total 7 columns):\n",
      "date               1324566 non-null datetime64[ns]\n",
      "customer_id        1324566 non-null int64\n",
      "item_id            1324566 non-null int64\n",
      "quantity           1324566 non-null int64\n",
      "selling_price      1324566 non-null float64\n",
      "other_discount     1324566 non-null float64\n",
      "coupon_discount    1324566 non-null float64\n",
      "dtypes: datetime64[ns](1), float64(3), int64(3)\n",
      "memory usage: 70.7 MB\n"
     ]
    }
   ],
   "source": [
    "transaction_data.info()"
   ]
  },
  {
   "cell_type": "markdown",
   "metadata": {},
   "source": [
    "### Coupon Item Mapping"
   ]
  },
  {
   "cell_type": "code",
   "execution_count": 15,
   "metadata": {},
   "outputs": [
    {
     "data": {
      "text/html": [
       "<div>\n",
       "<style scoped>\n",
       "    .dataframe tbody tr th:only-of-type {\n",
       "        vertical-align: middle;\n",
       "    }\n",
       "\n",
       "    .dataframe tbody tr th {\n",
       "        vertical-align: top;\n",
       "    }\n",
       "\n",
       "    .dataframe thead th {\n",
       "        text-align: right;\n",
       "    }\n",
       "</style>\n",
       "<table border=\"1\" class=\"dataframe\">\n",
       "  <thead>\n",
       "    <tr style=\"text-align: right;\">\n",
       "      <th></th>\n",
       "      <th>coupon_id</th>\n",
       "      <th>item_id</th>\n",
       "    </tr>\n",
       "  </thead>\n",
       "  <tbody>\n",
       "    <tr>\n",
       "      <th>0</th>\n",
       "      <td>105</td>\n",
       "      <td>37</td>\n",
       "    </tr>\n",
       "    <tr>\n",
       "      <th>1</th>\n",
       "      <td>107</td>\n",
       "      <td>75</td>\n",
       "    </tr>\n",
       "    <tr>\n",
       "      <th>2</th>\n",
       "      <td>494</td>\n",
       "      <td>76</td>\n",
       "    </tr>\n",
       "    <tr>\n",
       "      <th>3</th>\n",
       "      <td>522</td>\n",
       "      <td>77</td>\n",
       "    </tr>\n",
       "    <tr>\n",
       "      <th>4</th>\n",
       "      <td>518</td>\n",
       "      <td>77</td>\n",
       "    </tr>\n",
       "  </tbody>\n",
       "</table>\n",
       "</div>"
      ],
      "text/plain": [
       "   coupon_id  item_id\n",
       "0        105       37\n",
       "1        107       75\n",
       "2        494       76\n",
       "3        522       77\n",
       "4        518       77"
      ]
     },
     "execution_count": 15,
     "metadata": {},
     "output_type": "execute_result"
    }
   ],
   "source": [
    "coupon_item = pd.read_csv('data/train/coupon_item_mapping.csv')\n",
    "coupon_item.head()"
   ]
  },
  {
   "cell_type": "code",
   "execution_count": 16,
   "metadata": {},
   "outputs": [
    {
     "name": "stdout",
     "output_type": "stream",
     "text": [
      "<class 'pandas.core.frame.DataFrame'>\n",
      "RangeIndex: 92663 entries, 0 to 92662\n",
      "Data columns (total 2 columns):\n",
      "coupon_id    92663 non-null int64\n",
      "item_id      92663 non-null int64\n",
      "dtypes: int64(2)\n",
      "memory usage: 1.4 MB\n"
     ]
    }
   ],
   "source": [
    "coupon_item.info()"
   ]
  },
  {
   "cell_type": "code",
   "execution_count": 17,
   "metadata": {},
   "outputs": [
    {
     "data": {
      "text/html": [
       "<div>\n",
       "<style scoped>\n",
       "    .dataframe tbody tr th:only-of-type {\n",
       "        vertical-align: middle;\n",
       "    }\n",
       "\n",
       "    .dataframe tbody tr th {\n",
       "        vertical-align: top;\n",
       "    }\n",
       "\n",
       "    .dataframe thead th {\n",
       "        text-align: right;\n",
       "    }\n",
       "</style>\n",
       "<table border=\"1\" class=\"dataframe\">\n",
       "  <thead>\n",
       "    <tr style=\"text-align: right;\">\n",
       "      <th></th>\n",
       "      <th>coupon_id</th>\n",
       "      <th>item_id</th>\n",
       "      <th>brand</th>\n",
       "      <th>brand_type</th>\n",
       "      <th>category</th>\n",
       "    </tr>\n",
       "  </thead>\n",
       "  <tbody>\n",
       "    <tr>\n",
       "      <th>0</th>\n",
       "      <td>105</td>\n",
       "      <td>37</td>\n",
       "      <td>56</td>\n",
       "      <td>0</td>\n",
       "      <td>Grocery</td>\n",
       "    </tr>\n",
       "    <tr>\n",
       "      <th>1</th>\n",
       "      <td>107</td>\n",
       "      <td>75</td>\n",
       "      <td>56</td>\n",
       "      <td>0</td>\n",
       "      <td>Grocery</td>\n",
       "    </tr>\n",
       "    <tr>\n",
       "      <th>2</th>\n",
       "      <td>494</td>\n",
       "      <td>76</td>\n",
       "      <td>209</td>\n",
       "      <td>1</td>\n",
       "      <td>Grocery</td>\n",
       "    </tr>\n",
       "    <tr>\n",
       "      <th>3</th>\n",
       "      <td>522</td>\n",
       "      <td>77</td>\n",
       "      <td>278</td>\n",
       "      <td>1</td>\n",
       "      <td>Grocery</td>\n",
       "    </tr>\n",
       "    <tr>\n",
       "      <th>4</th>\n",
       "      <td>518</td>\n",
       "      <td>77</td>\n",
       "      <td>278</td>\n",
       "      <td>1</td>\n",
       "      <td>Grocery</td>\n",
       "    </tr>\n",
       "  </tbody>\n",
       "</table>\n",
       "</div>"
      ],
      "text/plain": [
       "   coupon_id  item_id  brand  brand_type category\n",
       "0        105       37     56           0  Grocery\n",
       "1        107       75     56           0  Grocery\n",
       "2        494       76    209           1  Grocery\n",
       "3        522       77    278           1  Grocery\n",
       "4        518       77    278           1  Grocery"
      ]
     },
     "execution_count": 17,
     "metadata": {},
     "output_type": "execute_result"
    }
   ],
   "source": [
    "coupon_item = coupon_item.merge(item_data, how='left', on='item_id')\n",
    "coupon_item.head()"
   ]
  },
  {
   "cell_type": "code",
   "execution_count": 18,
   "metadata": {},
   "outputs": [
    {
     "name": "stdout",
     "output_type": "stream",
     "text": [
      "<class 'pandas.core.frame.DataFrame'>\n",
      "Int64Index: 92663 entries, 105 to 31\n",
      "Data columns (total 4 columns):\n",
      "item_id       92663 non-null int64\n",
      "brand         92663 non-null int64\n",
      "brand_type    92663 non-null int64\n",
      "category      92663 non-null object\n",
      "dtypes: int64(3), object(1)\n",
      "memory usage: 3.5+ MB\n"
     ]
    }
   ],
   "source": [
    "coupon_item_index = coupon_item.set_index('coupon_id')\n",
    "coupon_item_index.info()"
   ]
  },
  {
   "cell_type": "markdown",
   "metadata": {},
   "source": [
    "### Train data"
   ]
  },
  {
   "cell_type": "code",
   "execution_count": 19,
   "metadata": {},
   "outputs": [
    {
     "data": {
      "text/html": [
       "<div>\n",
       "<style scoped>\n",
       "    .dataframe tbody tr th:only-of-type {\n",
       "        vertical-align: middle;\n",
       "    }\n",
       "\n",
       "    .dataframe tbody tr th {\n",
       "        vertical-align: top;\n",
       "    }\n",
       "\n",
       "    .dataframe thead th {\n",
       "        text-align: right;\n",
       "    }\n",
       "</style>\n",
       "<table border=\"1\" class=\"dataframe\">\n",
       "  <thead>\n",
       "    <tr style=\"text-align: right;\">\n",
       "      <th></th>\n",
       "      <th>id</th>\n",
       "      <th>campaign_id</th>\n",
       "      <th>coupon_id</th>\n",
       "      <th>customer_id</th>\n",
       "      <th>redemption_status</th>\n",
       "    </tr>\n",
       "  </thead>\n",
       "  <tbody>\n",
       "    <tr>\n",
       "      <th>0</th>\n",
       "      <td>1</td>\n",
       "      <td>13</td>\n",
       "      <td>27</td>\n",
       "      <td>1053</td>\n",
       "      <td>0</td>\n",
       "    </tr>\n",
       "    <tr>\n",
       "      <th>1</th>\n",
       "      <td>2</td>\n",
       "      <td>13</td>\n",
       "      <td>116</td>\n",
       "      <td>48</td>\n",
       "      <td>0</td>\n",
       "    </tr>\n",
       "    <tr>\n",
       "      <th>2</th>\n",
       "      <td>6</td>\n",
       "      <td>9</td>\n",
       "      <td>635</td>\n",
       "      <td>205</td>\n",
       "      <td>0</td>\n",
       "    </tr>\n",
       "    <tr>\n",
       "      <th>3</th>\n",
       "      <td>7</td>\n",
       "      <td>13</td>\n",
       "      <td>644</td>\n",
       "      <td>1050</td>\n",
       "      <td>0</td>\n",
       "    </tr>\n",
       "    <tr>\n",
       "      <th>4</th>\n",
       "      <td>9</td>\n",
       "      <td>8</td>\n",
       "      <td>1017</td>\n",
       "      <td>1489</td>\n",
       "      <td>0</td>\n",
       "    </tr>\n",
       "  </tbody>\n",
       "</table>\n",
       "</div>"
      ],
      "text/plain": [
       "   id  campaign_id  coupon_id  customer_id  redemption_status\n",
       "0   1           13         27         1053                  0\n",
       "1   2           13        116           48                  0\n",
       "2   6            9        635          205                  0\n",
       "3   7           13        644         1050                  0\n",
       "4   9            8       1017         1489                  0"
      ]
     },
     "execution_count": 19,
     "metadata": {},
     "output_type": "execute_result"
    }
   ],
   "source": [
    "train_data = pd.read_csv('data/train/train.csv')\n",
    "train_data.head()"
   ]
  },
  {
   "cell_type": "code",
   "execution_count": 20,
   "metadata": {},
   "outputs": [
    {
     "name": "stdout",
     "output_type": "stream",
     "text": [
      "<class 'pandas.core.frame.DataFrame'>\n",
      "RangeIndex: 78369 entries, 0 to 78368\n",
      "Data columns (total 5 columns):\n",
      "id                   78369 non-null int64\n",
      "campaign_id          78369 non-null int64\n",
      "coupon_id            78369 non-null int64\n",
      "customer_id          78369 non-null int64\n",
      "redemption_status    78369 non-null int64\n",
      "dtypes: int64(5)\n",
      "memory usage: 3.0 MB\n"
     ]
    }
   ],
   "source": [
    "train_data.info()"
   ]
  },
  {
   "cell_type": "markdown",
   "metadata": {},
   "source": [
    "### Test data"
   ]
  },
  {
   "cell_type": "code",
   "execution_count": 21,
   "metadata": {},
   "outputs": [
    {
     "data": {
      "text/html": [
       "<div>\n",
       "<style scoped>\n",
       "    .dataframe tbody tr th:only-of-type {\n",
       "        vertical-align: middle;\n",
       "    }\n",
       "\n",
       "    .dataframe tbody tr th {\n",
       "        vertical-align: top;\n",
       "    }\n",
       "\n",
       "    .dataframe thead th {\n",
       "        text-align: right;\n",
       "    }\n",
       "</style>\n",
       "<table border=\"1\" class=\"dataframe\">\n",
       "  <thead>\n",
       "    <tr style=\"text-align: right;\">\n",
       "      <th></th>\n",
       "      <th>id</th>\n",
       "      <th>campaign_id</th>\n",
       "      <th>coupon_id</th>\n",
       "      <th>customer_id</th>\n",
       "    </tr>\n",
       "  </thead>\n",
       "  <tbody>\n",
       "    <tr>\n",
       "      <th>0</th>\n",
       "      <td>3</td>\n",
       "      <td>22</td>\n",
       "      <td>869</td>\n",
       "      <td>967</td>\n",
       "    </tr>\n",
       "    <tr>\n",
       "      <th>1</th>\n",
       "      <td>4</td>\n",
       "      <td>20</td>\n",
       "      <td>389</td>\n",
       "      <td>1566</td>\n",
       "    </tr>\n",
       "    <tr>\n",
       "      <th>2</th>\n",
       "      <td>5</td>\n",
       "      <td>22</td>\n",
       "      <td>981</td>\n",
       "      <td>510</td>\n",
       "    </tr>\n",
       "    <tr>\n",
       "      <th>3</th>\n",
       "      <td>8</td>\n",
       "      <td>25</td>\n",
       "      <td>1069</td>\n",
       "      <td>361</td>\n",
       "    </tr>\n",
       "    <tr>\n",
       "      <th>4</th>\n",
       "      <td>10</td>\n",
       "      <td>17</td>\n",
       "      <td>498</td>\n",
       "      <td>811</td>\n",
       "    </tr>\n",
       "  </tbody>\n",
       "</table>\n",
       "</div>"
      ],
      "text/plain": [
       "   id  campaign_id  coupon_id  customer_id\n",
       "0   3           22        869          967\n",
       "1   4           20        389         1566\n",
       "2   5           22        981          510\n",
       "3   8           25       1069          361\n",
       "4  10           17        498          811"
      ]
     },
     "execution_count": 21,
     "metadata": {},
     "output_type": "execute_result"
    }
   ],
   "source": [
    "test_data = pd.read_csv('data/test/test.csv')\n",
    "test_data.head()"
   ]
  },
  {
   "cell_type": "code",
   "execution_count": 22,
   "metadata": {},
   "outputs": [
    {
     "name": "stdout",
     "output_type": "stream",
     "text": [
      "<class 'pandas.core.frame.DataFrame'>\n",
      "RangeIndex: 50226 entries, 0 to 50225\n",
      "Data columns (total 4 columns):\n",
      "id             50226 non-null int64\n",
      "campaign_id    50226 non-null int64\n",
      "coupon_id      50226 non-null int64\n",
      "customer_id    50226 non-null int64\n",
      "dtypes: int64(4)\n",
      "memory usage: 1.5 MB\n"
     ]
    }
   ],
   "source": [
    "test_data.info()"
   ]
  },
  {
   "cell_type": "markdown",
   "metadata": {},
   "source": [
    " "
   ]
  },
  {
   "cell_type": "markdown",
   "metadata": {},
   "source": [
    " "
   ]
  },
  {
   "cell_type": "markdown",
   "metadata": {},
   "source": [
    "# Data Preprocessing"
   ]
  },
  {
   "cell_type": "markdown",
   "metadata": {},
   "source": [
    "#### Combine train and test data"
   ]
  },
  {
   "cell_type": "code",
   "execution_count": 23,
   "metadata": {},
   "outputs": [
    {
     "name": "stdout",
     "output_type": "stream",
     "text": [
      "<class 'pandas.core.frame.DataFrame'>\n",
      "Int64Index: 128595 entries, 0 to 50225\n",
      "Data columns (total 4 columns):\n",
      "campaign_id    128595 non-null int64\n",
      "coupon_id      128595 non-null int64\n",
      "customer_id    128595 non-null int64\n",
      "id             128595 non-null int64\n",
      "dtypes: int64(4)\n",
      "memory usage: 4.9 MB\n"
     ]
    }
   ],
   "source": [
    "columns = train_data.columns[train_data.columns != 'redemption_status']\n",
    "total_data = train_data[columns].append(test_data, sort=True)\n",
    "total_data.info()"
   ]
  },
  {
   "cell_type": "markdown",
   "metadata": {},
   "source": [
    "### Data Transform"
   ]
  },
  {
   "cell_type": "markdown",
   "metadata": {},
   "source": [
    "Transforming Coupon-Item mapping into coupon specific variables"
   ]
  },
  {
   "cell_type": "code",
   "execution_count": 24,
   "metadata": {},
   "outputs": [
    {
     "name": "stdout",
     "output_type": "stream",
     "text": [
      "<class 'pandas.core.frame.DataFrame'>\n",
      "Int64Index: 1116 entries, 1 to 1116\n",
      "Data columns (total 20 columns):\n",
      "c_unique_items           1116 non-null int64\n",
      "c_unique_brand           1116 non-null int64\n",
      "c_freq_brand             1116 non-null int64\n",
      "c_rare_brand             1116 non-null int64\n",
      "c_items_freq_brand       1116 non-null int64\n",
      "c_items_rare_brand       1116 non-null int64\n",
      "c_unique_brandt          1116 non-null int64\n",
      "c_freq_brandt            1116 non-null int64\n",
      "c_rare_brandt            1116 non-null int64\n",
      "c_items_freq_brandt      1116 non-null int64\n",
      "c_items_rare_brandt      1116 non-null int64\n",
      "c_unique_category        1116 non-null int64\n",
      "c_freq_category          1116 non-null object\n",
      "c_rare_category          1116 non-null object\n",
      "c_items_freq_category    1116 non-null int64\n",
      "c_items_rare_category    1116 non-null int64\n",
      "c_coverage_item          1116 non-null float64\n",
      "c_coverage_brand         1116 non-null float64\n",
      "c_coverage_brandt        1116 non-null float64\n",
      "c_coverage_category      1116 non-null float64\n",
      "dtypes: float64(4), int64(14), object(2)\n",
      "memory usage: 183.1+ KB\n"
     ]
    }
   ],
   "source": [
    "coupon_data = coupon_item.groupby('coupon_id').agg({\n",
    "    'item_id': ['nunique'],\n",
    "    'brand': ['nunique', most_frequent, least_frequent, most_frequent_count, least_frequent_count],\n",
    "    'brand_type': ['nunique', most_frequent, least_frequent, most_frequent_count, least_frequent_count],\n",
    "    'category': ['nunique', most_frequent, least_frequent, most_frequent_count, least_frequent_count]\n",
    "})\n",
    "coupon_data.columns = ['c_unique_items', 'c_unique_brand', 'c_freq_brand', 'c_rare_brand', \n",
    "                       'c_items_freq_brand', 'c_items_rare_brand', 'c_unique_brandt', 'c_freq_brandt',\n",
    "                       'c_rare_brandt', 'c_items_freq_brandt', 'c_items_rare_brandt', \n",
    "                       'c_unique_category', 'c_freq_category', 'c_rare_category', 'c_items_freq_category', \n",
    "                       'c_items_rare_category']\n",
    "coupon_data['c_coverage_item'] = coupon_data['c_unique_items'] / total_items\n",
    "coupon_data['c_coverage_brand'] = coupon_data['c_unique_brand'] / total_brands\n",
    "coupon_data['c_coverage_brandt'] = coupon_data['c_unique_brandt'] / total_brand_types\n",
    "coupon_data['c_coverage_category'] = coupon_data['c_unique_category'] / total_categories\n",
    "\n",
    "coupon_data.info()"
   ]
  },
  {
   "cell_type": "markdown",
   "metadata": {},
   "source": [
    "Transforming Customer Transactions into Customer Buying habbit"
   ]
  },
  {
   "cell_type": "code",
   "execution_count": 25,
   "metadata": {},
   "outputs": [
    {
     "data": {
      "text/html": [
       "<div>\n",
       "<style scoped>\n",
       "    .dataframe tbody tr th:only-of-type {\n",
       "        vertical-align: middle;\n",
       "    }\n",
       "\n",
       "    .dataframe tbody tr th {\n",
       "        vertical-align: top;\n",
       "    }\n",
       "\n",
       "    .dataframe thead th {\n",
       "        text-align: right;\n",
       "    }\n",
       "</style>\n",
       "<table border=\"1\" class=\"dataframe\">\n",
       "  <thead>\n",
       "    <tr style=\"text-align: right;\">\n",
       "      <th></th>\n",
       "      <th></th>\n",
       "      <th>item_id</th>\n",
       "      <th>quantity</th>\n",
       "      <th>selling_price</th>\n",
       "      <th>other_discount</th>\n",
       "      <th>coupon_discount</th>\n",
       "      <th>total_discount</th>\n",
       "      <th>buying_price</th>\n",
       "      <th>selling_price_pq</th>\n",
       "      <th>other_discount_pq</th>\n",
       "      <th>coupon_discount_pq</th>\n",
       "      <th>total_discount_pq</th>\n",
       "      <th>buying_price_pq</th>\n",
       "      <th>brand</th>\n",
       "      <th>brand_type</th>\n",
       "      <th>category</th>\n",
       "    </tr>\n",
       "    <tr>\n",
       "      <th>customer_id</th>\n",
       "      <th>date</th>\n",
       "      <th></th>\n",
       "      <th></th>\n",
       "      <th></th>\n",
       "      <th></th>\n",
       "      <th></th>\n",
       "      <th></th>\n",
       "      <th></th>\n",
       "      <th></th>\n",
       "      <th></th>\n",
       "      <th></th>\n",
       "      <th></th>\n",
       "      <th></th>\n",
       "      <th></th>\n",
       "      <th></th>\n",
       "      <th></th>\n",
       "    </tr>\n",
       "  </thead>\n",
       "  <tbody>\n",
       "    <tr>\n",
       "      <th rowspan=\"5\" valign=\"top\">1</th>\n",
       "      <th>2012-02-21</th>\n",
       "      <td>4953</td>\n",
       "      <td>1</td>\n",
       "      <td>142.12</td>\n",
       "      <td>0.00</td>\n",
       "      <td>0.0</td>\n",
       "      <td>0.00</td>\n",
       "      <td>142.12</td>\n",
       "      <td>142.12</td>\n",
       "      <td>0.00</td>\n",
       "      <td>0.0</td>\n",
       "      <td>0.00</td>\n",
       "      <td>142.12</td>\n",
       "      <td>1061</td>\n",
       "      <td>1</td>\n",
       "      <td>Grocery</td>\n",
       "    </tr>\n",
       "    <tr>\n",
       "      <th>2012-02-21</th>\n",
       "      <td>5626</td>\n",
       "      <td>1</td>\n",
       "      <td>106.50</td>\n",
       "      <td>0.00</td>\n",
       "      <td>0.0</td>\n",
       "      <td>0.00</td>\n",
       "      <td>106.50</td>\n",
       "      <td>106.50</td>\n",
       "      <td>0.00</td>\n",
       "      <td>0.0</td>\n",
       "      <td>0.00</td>\n",
       "      <td>106.50</td>\n",
       "      <td>278</td>\n",
       "      <td>1</td>\n",
       "      <td>Grocery</td>\n",
       "    </tr>\n",
       "    <tr>\n",
       "      <th>2012-02-21</th>\n",
       "      <td>7808</td>\n",
       "      <td>1</td>\n",
       "      <td>99.38</td>\n",
       "      <td>-42.74</td>\n",
       "      <td>0.0</td>\n",
       "      <td>-42.74</td>\n",
       "      <td>56.64</td>\n",
       "      <td>99.38</td>\n",
       "      <td>-42.74</td>\n",
       "      <td>0.0</td>\n",
       "      <td>-42.74</td>\n",
       "      <td>56.64</td>\n",
       "      <td>56</td>\n",
       "      <td>0</td>\n",
       "      <td>Grocery</td>\n",
       "    </tr>\n",
       "    <tr>\n",
       "      <th>2012-02-21</th>\n",
       "      <td>8107</td>\n",
       "      <td>1</td>\n",
       "      <td>256.11</td>\n",
       "      <td>-46.31</td>\n",
       "      <td>0.0</td>\n",
       "      <td>-46.31</td>\n",
       "      <td>209.80</td>\n",
       "      <td>256.11</td>\n",
       "      <td>-46.31</td>\n",
       "      <td>0.0</td>\n",
       "      <td>-46.31</td>\n",
       "      <td>209.80</td>\n",
       "      <td>914</td>\n",
       "      <td>1</td>\n",
       "      <td>Grocery</td>\n",
       "    </tr>\n",
       "    <tr>\n",
       "      <th>2012-02-21</th>\n",
       "      <td>8307</td>\n",
       "      <td>1</td>\n",
       "      <td>89.05</td>\n",
       "      <td>-17.45</td>\n",
       "      <td>0.0</td>\n",
       "      <td>-17.45</td>\n",
       "      <td>71.60</td>\n",
       "      <td>89.05</td>\n",
       "      <td>-17.45</td>\n",
       "      <td>0.0</td>\n",
       "      <td>-17.45</td>\n",
       "      <td>71.60</td>\n",
       "      <td>141</td>\n",
       "      <td>1</td>\n",
       "      <td>Grocery</td>\n",
       "    </tr>\n",
       "  </tbody>\n",
       "</table>\n",
       "</div>"
      ],
      "text/plain": [
       "                        item_id  quantity  selling_price  other_discount  \\\n",
       "customer_id date                                                           \n",
       "1           2012-02-21     4953         1         142.12            0.00   \n",
       "            2012-02-21     5626         1         106.50            0.00   \n",
       "            2012-02-21     7808         1          99.38          -42.74   \n",
       "            2012-02-21     8107         1         256.11          -46.31   \n",
       "            2012-02-21     8307         1          89.05          -17.45   \n",
       "\n",
       "                        coupon_discount  total_discount  buying_price  \\\n",
       "customer_id date                                                        \n",
       "1           2012-02-21              0.0            0.00        142.12   \n",
       "            2012-02-21              0.0            0.00        106.50   \n",
       "            2012-02-21              0.0          -42.74         56.64   \n",
       "            2012-02-21              0.0          -46.31        209.80   \n",
       "            2012-02-21              0.0          -17.45         71.60   \n",
       "\n",
       "                        selling_price_pq  other_discount_pq  \\\n",
       "customer_id date                                              \n",
       "1           2012-02-21            142.12               0.00   \n",
       "            2012-02-21            106.50               0.00   \n",
       "            2012-02-21             99.38             -42.74   \n",
       "            2012-02-21            256.11             -46.31   \n",
       "            2012-02-21             89.05             -17.45   \n",
       "\n",
       "                        coupon_discount_pq  total_discount_pq  \\\n",
       "customer_id date                                                \n",
       "1           2012-02-21                 0.0               0.00   \n",
       "            2012-02-21                 0.0               0.00   \n",
       "            2012-02-21                 0.0             -42.74   \n",
       "            2012-02-21                 0.0             -46.31   \n",
       "            2012-02-21                 0.0             -17.45   \n",
       "\n",
       "                        buying_price_pq  brand  brand_type category  \n",
       "customer_id date                                                     \n",
       "1           2012-02-21           142.12   1061           1  Grocery  \n",
       "            2012-02-21           106.50    278           1  Grocery  \n",
       "            2012-02-21            56.64     56           0  Grocery  \n",
       "            2012-02-21           209.80    914           1  Grocery  \n",
       "            2012-02-21            71.60    141           1  Grocery  "
      ]
     },
     "execution_count": 25,
     "metadata": {},
     "output_type": "execute_result"
    }
   ],
   "source": [
    "transaction_data['total_discount'] = transaction_data['coupon_discount'] + transaction_data['other_discount']\n",
    "transaction_data['buying_price'] = transaction_data['selling_price'] + transaction_data['other_discount']\n",
    "transaction_data['selling_price_pq'] = transaction_data['selling_price'] / transaction_data['quantity']\n",
    "transaction_data['other_discount_pq'] = transaction_data['other_discount'] / transaction_data['quantity']\n",
    "transaction_data['coupon_discount_pq'] = transaction_data['coupon_discount'] / transaction_data['quantity']\n",
    "transaction_data['total_discount_pq'] = transaction_data['coupon_discount_pq'] + transaction_data['other_discount_pq']\n",
    "transaction_data['buying_price_pq'] = transaction_data['selling_price_pq'] + transaction_data['other_discount_pq']\n",
    "transaction_data['date'] = pd.to_datetime(transaction_data['date'])\n",
    "transaction_data = transaction_data.merge(item_data, on='item_id', how='left')\n",
    "transaction_data = transaction_data.set_index(['customer_id','date']).sort_index()\n",
    "transaction_data.head()"
   ]
  },
  {
   "cell_type": "code",
   "execution_count": 26,
   "metadata": {},
   "outputs": [
    {
     "name": "stdout",
     "output_type": "stream",
     "text": [
      "<class 'pandas.core.frame.DataFrame'>\n",
      "MultiIndex: 1324566 entries, (1, 2012-02-21 00:00:00) to (1582, 2013-06-25 00:00:00)\n",
      "Data columns (total 15 columns):\n",
      "item_id               1324566 non-null int64\n",
      "quantity              1324566 non-null int64\n",
      "selling_price         1324566 non-null float64\n",
      "other_discount        1324566 non-null float64\n",
      "coupon_discount       1324566 non-null float64\n",
      "total_discount        1324566 non-null float64\n",
      "buying_price          1324566 non-null float64\n",
      "selling_price_pq      1324566 non-null float64\n",
      "other_discount_pq     1324566 non-null float64\n",
      "coupon_discount_pq    1324566 non-null float64\n",
      "total_discount_pq     1324566 non-null float64\n",
      "buying_price_pq       1324566 non-null float64\n",
      "brand                 1324566 non-null int64\n",
      "brand_type            1324566 non-null int64\n",
      "category              1324566 non-null object\n",
      "dtypes: float64(10), int64(4), object(1)\n",
      "memory usage: 156.7+ MB\n"
     ]
    }
   ],
   "source": [
    "transaction_data.info()"
   ]
  },
  {
   "cell_type": "code",
   "execution_count": 27,
   "metadata": {},
   "outputs": [
    {
     "data": {
      "text/html": [
       "<div>\n",
       "<style scoped>\n",
       "    .dataframe tbody tr th:only-of-type {\n",
       "        vertical-align: middle;\n",
       "    }\n",
       "\n",
       "    .dataframe tbody tr th {\n",
       "        vertical-align: top;\n",
       "    }\n",
       "\n",
       "    .dataframe thead th {\n",
       "        text-align: right;\n",
       "    }\n",
       "</style>\n",
       "<table border=\"1\" class=\"dataframe\">\n",
       "  <thead>\n",
       "    <tr style=\"text-align: right;\">\n",
       "      <th></th>\n",
       "      <th>item_id</th>\n",
       "      <th>quantity</th>\n",
       "      <th>selling_price</th>\n",
       "      <th>other_discount</th>\n",
       "      <th>coupon_discount</th>\n",
       "      <th>total_discount</th>\n",
       "      <th>buying_price</th>\n",
       "      <th>selling_price_pq</th>\n",
       "      <th>other_discount_pq</th>\n",
       "      <th>coupon_discount_pq</th>\n",
       "      <th>total_discount_pq</th>\n",
       "      <th>buying_price_pq</th>\n",
       "      <th>brand</th>\n",
       "      <th>brand_type</th>\n",
       "    </tr>\n",
       "  </thead>\n",
       "  <tbody>\n",
       "    <tr>\n",
       "      <th>count</th>\n",
       "      <td>1.324566e+06</td>\n",
       "      <td>1.324566e+06</td>\n",
       "      <td>1.324566e+06</td>\n",
       "      <td>1.324566e+06</td>\n",
       "      <td>1.324566e+06</td>\n",
       "      <td>1.324566e+06</td>\n",
       "      <td>1.324566e+06</td>\n",
       "      <td>1.324566e+06</td>\n",
       "      <td>1.324566e+06</td>\n",
       "      <td>1.324566e+06</td>\n",
       "      <td>1.324566e+06</td>\n",
       "      <td>1.324566e+06</td>\n",
       "      <td>1.324566e+06</td>\n",
       "      <td>1.324566e+06</td>\n",
       "    </tr>\n",
       "    <tr>\n",
       "      <th>mean</th>\n",
       "      <td>2.951903e+04</td>\n",
       "      <td>1.306633e+02</td>\n",
       "      <td>1.146036e+02</td>\n",
       "      <td>-1.776871e+01</td>\n",
       "      <td>-5.948983e-01</td>\n",
       "      <td>-1.836360e+01</td>\n",
       "      <td>9.683493e+01</td>\n",
       "      <td>8.770231e+01</td>\n",
       "      <td>-1.355429e+01</td>\n",
       "      <td>-4.759791e-01</td>\n",
       "      <td>-1.403027e+01</td>\n",
       "      <td>7.414802e+01</td>\n",
       "      <td>8.840647e+02</td>\n",
       "      <td>7.308024e-01</td>\n",
       "    </tr>\n",
       "    <tr>\n",
       "      <th>std</th>\n",
       "      <td>1.790806e+04</td>\n",
       "      <td>1.311545e+03</td>\n",
       "      <td>1.529053e+02</td>\n",
       "      <td>3.788867e+01</td>\n",
       "      <td>7.069367e+00</td>\n",
       "      <td>3.929699e+01</td>\n",
       "      <td>1.481945e+02</td>\n",
       "      <td>9.287411e+01</td>\n",
       "      <td>2.575621e+01</td>\n",
       "      <td>5.405928e+00</td>\n",
       "      <td>2.655212e+01</td>\n",
       "      <td>9.111477e+01</td>\n",
       "      <td>1.125452e+03</td>\n",
       "      <td>4.435430e-01</td>\n",
       "    </tr>\n",
       "    <tr>\n",
       "      <th>min</th>\n",
       "      <td>1.000000e+00</td>\n",
       "      <td>1.000000e+00</td>\n",
       "      <td>3.600000e-01</td>\n",
       "      <td>-3.120310e+03</td>\n",
       "      <td>-1.992230e+03</td>\n",
       "      <td>-3.258160e+03</td>\n",
       "      <td>-1.424440e+03</td>\n",
       "      <td>5.911488e-02</td>\n",
       "      <td>-2.671500e+03</td>\n",
       "      <td>-1.068240e+03</td>\n",
       "      <td>-2.671500e+03</td>\n",
       "      <td>-1.424440e+03</td>\n",
       "      <td>1.000000e+00</td>\n",
       "      <td>0.000000e+00</td>\n",
       "    </tr>\n",
       "    <tr>\n",
       "      <th>25%</th>\n",
       "      <td>1.468400e+04</td>\n",
       "      <td>1.000000e+00</td>\n",
       "      <td>4.916000e+01</td>\n",
       "      <td>-2.315000e+01</td>\n",
       "      <td>0.000000e+00</td>\n",
       "      <td>-2.458000e+01</td>\n",
       "      <td>3.526000e+01</td>\n",
       "      <td>3.562000e+01</td>\n",
       "      <td>-1.781000e+01</td>\n",
       "      <td>0.000000e+00</td>\n",
       "      <td>-1.781000e+01</td>\n",
       "      <td>2.743000e+01</td>\n",
       "      <td>5.600000e+01</td>\n",
       "      <td>0.000000e+00</td>\n",
       "    </tr>\n",
       "    <tr>\n",
       "      <th>50%</th>\n",
       "      <td>2.659700e+04</td>\n",
       "      <td>1.000000e+00</td>\n",
       "      <td>7.801000e+01</td>\n",
       "      <td>-1.780000e+00</td>\n",
       "      <td>0.000000e+00</td>\n",
       "      <td>-3.210000e+00</td>\n",
       "      <td>6.447000e+01</td>\n",
       "      <td>7.088000e+01</td>\n",
       "      <td>-3.560459e-03</td>\n",
       "      <td>0.000000e+00</td>\n",
       "      <td>-7.125000e-01</td>\n",
       "      <td>5.308000e+01</td>\n",
       "      <td>5.330000e+02</td>\n",
       "      <td>1.000000e+00</td>\n",
       "    </tr>\n",
       "    <tr>\n",
       "      <th>75%</th>\n",
       "      <td>4.240575e+04</td>\n",
       "      <td>1.000000e+00</td>\n",
       "      <td>1.243100e+02</td>\n",
       "      <td>0.000000e+00</td>\n",
       "      <td>0.000000e+00</td>\n",
       "      <td>0.000000e+00</td>\n",
       "      <td>1.068600e+02</td>\n",
       "      <td>1.065000e+02</td>\n",
       "      <td>0.000000e+00</td>\n",
       "      <td>0.000000e+00</td>\n",
       "      <td>0.000000e+00</td>\n",
       "      <td>9.582000e+01</td>\n",
       "      <td>1.124000e+03</td>\n",
       "      <td>1.000000e+00</td>\n",
       "    </tr>\n",
       "    <tr>\n",
       "      <th>max</th>\n",
       "      <td>7.406600e+04</td>\n",
       "      <td>8.963800e+04</td>\n",
       "      <td>1.780964e+04</td>\n",
       "      <td>0.000000e+00</td>\n",
       "      <td>0.000000e+00</td>\n",
       "      <td>0.000000e+00</td>\n",
       "      <td>1.602864e+04</td>\n",
       "      <td>1.780964e+04</td>\n",
       "      <td>0.000000e+00</td>\n",
       "      <td>0.000000e+00</td>\n",
       "      <td>0.000000e+00</td>\n",
       "      <td>1.602864e+04</td>\n",
       "      <td>5.528000e+03</td>\n",
       "      <td>1.000000e+00</td>\n",
       "    </tr>\n",
       "  </tbody>\n",
       "</table>\n",
       "</div>"
      ],
      "text/plain": [
       "            item_id      quantity  selling_price  other_discount  \\\n",
       "count  1.324566e+06  1.324566e+06   1.324566e+06    1.324566e+06   \n",
       "mean   2.951903e+04  1.306633e+02   1.146036e+02   -1.776871e+01   \n",
       "std    1.790806e+04  1.311545e+03   1.529053e+02    3.788867e+01   \n",
       "min    1.000000e+00  1.000000e+00   3.600000e-01   -3.120310e+03   \n",
       "25%    1.468400e+04  1.000000e+00   4.916000e+01   -2.315000e+01   \n",
       "50%    2.659700e+04  1.000000e+00   7.801000e+01   -1.780000e+00   \n",
       "75%    4.240575e+04  1.000000e+00   1.243100e+02    0.000000e+00   \n",
       "max    7.406600e+04  8.963800e+04   1.780964e+04    0.000000e+00   \n",
       "\n",
       "       coupon_discount  total_discount  buying_price  selling_price_pq  \\\n",
       "count     1.324566e+06    1.324566e+06  1.324566e+06      1.324566e+06   \n",
       "mean     -5.948983e-01   -1.836360e+01  9.683493e+01      8.770231e+01   \n",
       "std       7.069367e+00    3.929699e+01  1.481945e+02      9.287411e+01   \n",
       "min      -1.992230e+03   -3.258160e+03 -1.424440e+03      5.911488e-02   \n",
       "25%       0.000000e+00   -2.458000e+01  3.526000e+01      3.562000e+01   \n",
       "50%       0.000000e+00   -3.210000e+00  6.447000e+01      7.088000e+01   \n",
       "75%       0.000000e+00    0.000000e+00  1.068600e+02      1.065000e+02   \n",
       "max       0.000000e+00    0.000000e+00  1.602864e+04      1.780964e+04   \n",
       "\n",
       "       other_discount_pq  coupon_discount_pq  total_discount_pq  \\\n",
       "count       1.324566e+06        1.324566e+06       1.324566e+06   \n",
       "mean       -1.355429e+01       -4.759791e-01      -1.403027e+01   \n",
       "std         2.575621e+01        5.405928e+00       2.655212e+01   \n",
       "min        -2.671500e+03       -1.068240e+03      -2.671500e+03   \n",
       "25%        -1.781000e+01        0.000000e+00      -1.781000e+01   \n",
       "50%        -3.560459e-03        0.000000e+00      -7.125000e-01   \n",
       "75%         0.000000e+00        0.000000e+00       0.000000e+00   \n",
       "max         0.000000e+00        0.000000e+00       0.000000e+00   \n",
       "\n",
       "       buying_price_pq         brand    brand_type  \n",
       "count     1.324566e+06  1.324566e+06  1.324566e+06  \n",
       "mean      7.414802e+01  8.840647e+02  7.308024e-01  \n",
       "std       9.111477e+01  1.125452e+03  4.435430e-01  \n",
       "min      -1.424440e+03  1.000000e+00  0.000000e+00  \n",
       "25%       2.743000e+01  5.600000e+01  0.000000e+00  \n",
       "50%       5.308000e+01  5.330000e+02  1.000000e+00  \n",
       "75%       9.582000e+01  1.124000e+03  1.000000e+00  \n",
       "max       1.602864e+04  5.528000e+03  1.000000e+00  "
      ]
     },
     "execution_count": 27,
     "metadata": {},
     "output_type": "execute_result"
    }
   ],
   "source": [
    "transaction_data.describe()"
   ]
  },
  {
   "cell_type": "code",
   "execution_count": 28,
   "metadata": {},
   "outputs": [
    {
     "name": "stdout",
     "output_type": "stream",
     "text": [
      "<class 'pandas.core.frame.DataFrame'>\n",
      "RangeIndex: 1582 entries, 0 to 1581\n",
      "Data columns (total 39 columns):\n",
      "customer_id                    1582 non-null int64\n",
      "overall_unique_items           1582 non-null int64\n",
      "overall_items                  1582 non-null int64\n",
      "overall_quantity               1582 non-null int64\n",
      "overall_sprice                 1582 non-null float64\n",
      "overall_bprice                 1582 non-null float64\n",
      "overall_odiscount              1582 non-null float64\n",
      "overall_cdiscount              1582 non-null float64\n",
      "overall_tdiscount              1582 non-null float64\n",
      "overall_sprice_pq              1582 non-null float64\n",
      "overall_bprice_pq              1582 non-null float64\n",
      "overall_odiscount_pq           1582 non-null float64\n",
      "overall_cdiscount_pq           1582 non-null float64\n",
      "overall_tdiscount_pq           1582 non-null float64\n",
      "overall_unique_brand           1582 non-null int64\n",
      "overall_freq_brand             1582 non-null int64\n",
      "overall_rare_brand             1582 non-null int64\n",
      "overall_items_freq_brand       1582 non-null int64\n",
      "overall_items_rare_brand       1582 non-null int64\n",
      "overall_unique_brandt          1582 non-null int64\n",
      "overall_freq_brandt            1582 non-null int64\n",
      "overall_rare_brandt            1582 non-null int64\n",
      "overall_items_freq_brandt      1582 non-null int64\n",
      "overall_items_rare_brandt      1582 non-null int64\n",
      "overall_unique_category        1582 non-null int64\n",
      "overall_freq_category          1582 non-null object\n",
      "overall_rare_category          1582 non-null object\n",
      "overall_items_freq_category    1582 non-null int64\n",
      "overall_items_rare_category    1582 non-null int64\n",
      "overall_coverage_item          1582 non-null float64\n",
      "overall_coverage_brand         1582 non-null float64\n",
      "overall_coverage_brandt        1582 non-null float64\n",
      "overall_coverage_category      1582 non-null float64\n",
      "overall_podiscount             1582 non-null float64\n",
      "overall_pcdiscount             1582 non-null float64\n",
      "overall_ptdiscount             1582 non-null float64\n",
      "overall_podiscount_pq          1582 non-null float64\n",
      "overall_pcdiscount_pq          1582 non-null float64\n",
      "overall_ptdiscount_pq          1582 non-null float64\n",
      "dtypes: float64(20), int64(17), object(2)\n",
      "memory usage: 482.1+ KB\n"
     ]
    }
   ],
   "source": [
    "customer_history = transaction_data.groupby('customer_id').agg({\n",
    "    'item_id': ['nunique', 'count'],\n",
    "    'quantity': 'sum',\n",
    "    'selling_price': 'mean',\n",
    "    'buying_price': 'mean',\n",
    "    'other_discount': 'mean',\n",
    "    'coupon_discount': 'mean',\n",
    "    'total_discount': 'mean',\n",
    "    'selling_price_pq': 'mean',\n",
    "    'buying_price_pq': 'mean',\n",
    "    'other_discount_pq': 'mean',\n",
    "    'coupon_discount_pq': 'mean',\n",
    "    'total_discount_pq': 'mean',\n",
    "    'brand': ['nunique', most_frequent, least_frequent, most_frequent_count, least_frequent_count],\n",
    "    'brand_type': ['nunique', most_frequent, least_frequent, most_frequent_count, least_frequent_count],\n",
    "    'category': ['nunique', most_frequent, least_frequent, most_frequent_count, least_frequent_count]\n",
    "})\n",
    "customer_history.columns = ['overall_unique_items', 'overall_items', 'overall_quantity', 'overall_sprice', 'overall_bprice', 'overall_odiscount', 'overall_cdiscount', 'overall_tdiscount', 'overall_sprice_pq', 'overall_bprice_pq', 'overall_odiscount_pq', 'overall_cdiscount_pq', 'overall_tdiscount_pq', 'overall_unique_brand', 'overall_freq_brand', 'overall_rare_brand', 'overall_items_freq_brand', 'overall_items_rare_brand', 'overall_unique_brandt', 'overall_freq_brandt', 'overall_rare_brandt', 'overall_items_freq_brandt', 'overall_items_rare_brandt', 'overall_unique_category', 'overall_freq_category', 'overall_rare_category', 'overall_items_freq_category', 'overall_items_rare_category']\n",
    "customer_history['overall_coverage_item'] = customer_history['overall_unique_items'] / total_items\n",
    "customer_history['overall_coverage_brand'] = customer_history['overall_unique_brand'] / total_brands\n",
    "customer_history['overall_coverage_brandt'] = customer_history['overall_unique_brandt'] / total_brand_types\n",
    "customer_history['overall_coverage_category'] = customer_history['overall_unique_category'] / total_categories\n",
    "customer_history['overall_podiscount'] = customer_history['overall_odiscount'] / customer_history['overall_bprice']\n",
    "customer_history['overall_pcdiscount'] = customer_history['overall_cdiscount'] / customer_history['overall_bprice']\n",
    "customer_history['overall_ptdiscount'] = customer_history['overall_tdiscount'] / customer_history['overall_bprice']\n",
    "customer_history['overall_podiscount_pq'] = customer_history['overall_odiscount_pq'] / customer_history['overall_bprice_pq']\n",
    "customer_history['overall_pcdiscount_pq'] = customer_history['overall_cdiscount_pq'] / customer_history['overall_bprice_pq']\n",
    "customer_history['overall_ptdiscount_pq'] = customer_history['overall_tdiscount_pq'] / customer_history['overall_bprice_pq']\n",
    "customer_history = customer_history.reset_index()\n",
    "customer_history.info()"
   ]
  },
  {
   "cell_type": "markdown",
   "metadata": {},
   "source": [
    " "
   ]
  },
  {
   "cell_type": "markdown",
   "metadata": {},
   "source": [
    "### Merge Dataset"
   ]
  },
  {
   "cell_type": "code",
   "execution_count": 29,
   "metadata": {},
   "outputs": [
    {
     "name": "stdout",
     "output_type": "stream",
     "text": [
      "<class 'pandas.core.frame.DataFrame'>\n",
      "Int64Index: 128595 entries, 0 to 128594\n",
      "Data columns (total 72 columns):\n",
      "campaign_id                    128595 non-null int64\n",
      "coupon_id                      128595 non-null int64\n",
      "customer_id                    128595 non-null int64\n",
      "id                             128595 non-null int64\n",
      "campaign_type                  128595 non-null int64\n",
      "start_date                     128595 non-null datetime64[ns]\n",
      "end_date                       128595 non-null datetime64[ns]\n",
      "duration                       128595 non-null int64\n",
      "age_range                      74600 non-null object\n",
      "marital_status                 74600 non-null float64\n",
      "rented                         74600 non-null float64\n",
      "family_size                    74600 non-null float64\n",
      "no_of_children                 74600 non-null float64\n",
      "income_bracket                 74600 non-null float64\n",
      "c_unique_items                 128595 non-null int64\n",
      "c_unique_brand                 128595 non-null int64\n",
      "c_freq_brand                   128595 non-null int64\n",
      "c_rare_brand                   128595 non-null int64\n",
      "c_items_freq_brand             128595 non-null int64\n",
      "c_items_rare_brand             128595 non-null int64\n",
      "c_unique_brandt                128595 non-null int64\n",
      "c_freq_brandt                  128595 non-null int64\n",
      "c_rare_brandt                  128595 non-null int64\n",
      "c_items_freq_brandt            128595 non-null int64\n",
      "c_items_rare_brandt            128595 non-null int64\n",
      "c_unique_category              128595 non-null int64\n",
      "c_freq_category                128595 non-null object\n",
      "c_rare_category                128595 non-null object\n",
      "c_items_freq_category          128595 non-null int64\n",
      "c_items_rare_category          128595 non-null int64\n",
      "c_coverage_item                128595 non-null float64\n",
      "c_coverage_brand               128595 non-null float64\n",
      "c_coverage_brandt              128595 non-null float64\n",
      "c_coverage_category            128595 non-null float64\n",
      "overall_unique_items           128595 non-null int64\n",
      "overall_items                  128595 non-null int64\n",
      "overall_quantity               128595 non-null int64\n",
      "overall_sprice                 128595 non-null float64\n",
      "overall_bprice                 128595 non-null float64\n",
      "overall_odiscount              128595 non-null float64\n",
      "overall_cdiscount              128595 non-null float64\n",
      "overall_tdiscount              128595 non-null float64\n",
      "overall_sprice_pq              128595 non-null float64\n",
      "overall_bprice_pq              128595 non-null float64\n",
      "overall_odiscount_pq           128595 non-null float64\n",
      "overall_cdiscount_pq           128595 non-null float64\n",
      "overall_tdiscount_pq           128595 non-null float64\n",
      "overall_unique_brand           128595 non-null int64\n",
      "overall_freq_brand             128595 non-null int64\n",
      "overall_rare_brand             128595 non-null int64\n",
      "overall_items_freq_brand       128595 non-null int64\n",
      "overall_items_rare_brand       128595 non-null int64\n",
      "overall_unique_brandt          128595 non-null int64\n",
      "overall_freq_brandt            128595 non-null int64\n",
      "overall_rare_brandt            128595 non-null int64\n",
      "overall_items_freq_brandt      128595 non-null int64\n",
      "overall_items_rare_brandt      128595 non-null int64\n",
      "overall_unique_category        128595 non-null int64\n",
      "overall_freq_category          128595 non-null object\n",
      "overall_rare_category          128595 non-null object\n",
      "overall_items_freq_category    128595 non-null int64\n",
      "overall_items_rare_category    128595 non-null int64\n",
      "overall_coverage_item          128595 non-null float64\n",
      "overall_coverage_brand         128595 non-null float64\n",
      "overall_coverage_brandt        128595 non-null float64\n",
      "overall_coverage_category      128595 non-null float64\n",
      "overall_podiscount             128595 non-null float64\n",
      "overall_pcdiscount             128595 non-null float64\n",
      "overall_ptdiscount             128595 non-null float64\n",
      "overall_podiscount_pq          128595 non-null float64\n",
      "overall_pcdiscount_pq          128595 non-null float64\n",
      "overall_ptdiscount_pq          128595 non-null float64\n",
      "dtypes: datetime64[ns](2), float64(29), int64(36), object(5)\n",
      "memory usage: 71.6+ MB\n"
     ]
    }
   ],
   "source": [
    "total_data = total_data.merge(campaign_data, on='campaign_id', how='left')\n",
    "total_data = total_data.merge(customer_data, on='customer_id', how='left')\n",
    "total_data = total_data.merge(coupon_data, on='coupon_id', how='left')\n",
    "total_data = total_data.merge(customer_history, on='customer_id', how='left')\n",
    "total_data.info()"
   ]
  },
  {
   "cell_type": "code",
   "execution_count": 30,
   "metadata": {},
   "outputs": [],
   "source": [
    "range_start_delta = pd.Timedelta('223 days')\n",
    "range_end_delta = pd.Timedelta('110 days')\n",
    "\n",
    "def extract_range_features(row):\n",
    "    start_time = pd.Timestamp(campaign_data_index.loc[row.campaign_id].start_date)\n",
    "    range_start, range_end = start_time - range_start_delta, start_time - range_end_delta\n",
    "    items = pd.Series(coupon_item_index.loc[row.coupon_id].item_id)\n",
    "\n",
    "    overall_history = transaction_data.loc[row.customer_id]\n",
    "    history = overall_history[range_start:range_end]\n",
    "    overall_coupon_history = overall_history[overall_history.item_id.isin(items)]\n",
    "    coupon_history = history[history.item_id.isin(items)]\n",
    "\n",
    "    for df_name, df in [('overall_coupon_', overall_coupon_history), ('range_', history), ('range_coupon_', coupon_history)]:\n",
    "        row[df_name+'unique_items'] = df['item_id'].nunique()\n",
    "        row[df_name+'items'] = df['item_id'].count()\n",
    "        row[df_name+'quantity'] = df['quantity'].sum()\n",
    "        \n",
    "        for new_name, old_name in [('sprice', 'selling_price'), ('bprice', 'buying_price'), ('odiscount', 'other_discount'), ('cdiscount', 'coupon_discount'), ('tdiscount', 'total_discount'), ('sprice_pq', 'selling_price_pq'), ('bprice_pq', 'buying_price_pq'), ('odiscount_pq', 'other_discount_pq'), ('cdiscount_pq', 'coupon_discount_pq'), ('tdiscount_pq', 'total_discount_pq')]:\n",
    "            row[df_name+''+new_name] = df[old_name].mean()\n",
    "        \n",
    "        for name in ['odiscount', 'cdiscount', 'tdiscount']:\n",
    "            bprice = row[df_name+'bprice']\n",
    "            row[df_name+'p'+name] = row[df_name+''+name] / bprice if bprice > 0 else np.NaN\n",
    "            \n",
    "        for name in ['odiscount_pq', 'cdiscount_pq', 'tdiscount_pq']:\n",
    "            bprice_pq = row[df_name+'bprice_pq']\n",
    "            row[df_name+'p'+name] = row[df_name+''+name] / bprice_pq if bprice_pq > 0 else np.NaN\n",
    "        \n",
    "        for new_name, old_name in [('brand', 'brand'), ('brandt', 'brand_type'), ('category','category')]:\n",
    "            unique_count = df[old_name].nunique()\n",
    "            row[df_name+'unique_'+new_name] = unique_count\n",
    "            \n",
    "            if unique_count == 0:\n",
    "                row[df_name+'items_freq_'+new_name] = 0\n",
    "                row[df_name+'items_rare_'+new_name] = 0\n",
    "                row[df_name+'freq_'+new_name] = np.NaN\n",
    "                row[df_name+'rare_'+new_name] = np.NaN\n",
    "            else:\n",
    "                freq = most_frequent(df[old_name])\n",
    "                row[df_name+'freq_'+new_name] = freq\n",
    "                row[df_name+'items_freq_'+new_name] = df[df[old_name] == freq]['item_id'].nunique()\n",
    "                row[df_name+'items_p_freq_'+new_name] = row[df_name+'items_freq_'+new_name] / df['item_id'].nunique()\n",
    "\n",
    "                rare = least_frequent(df[old_name])\n",
    "                row[df_name+'rare_'+new_name] = rare\n",
    "                row[df_name+'items_rare_'+new_name] = df[df[old_name] == rare]['item_id'].nunique()\n",
    "                row[df_name+'items_p_rare_'+new_name] = row[df_name+'items_rare_'+new_name] / df['item_id'].nunique()\n",
    "            \n",
    "        row[df_name+'coverage_item'] = row[df_name+'unique_items'] / total_items\n",
    "        row[df_name+'coverage_brand'] = row[df_name+'unique_brand'] / total_brands\n",
    "        row[df_name+'coverage_brandt'] = row[df_name+'unique_brandt'] / total_brand_types\n",
    "        row[df_name+'coverage_category'] = row[df_name+'unique_category'] / total_categories\n",
    "    \n",
    "    if coupon_history.shape[0] > 0:\n",
    "        row['redemption_ratio'] = coupon_history[coupon_history['coupon_discount'] < 0].shape[0] / coupon_history.shape[0]\n",
    "    else:\n",
    "        row['redemption_ratio'] = np.NaN\n",
    "    \n",
    "    if history.shape[0] > 0:\n",
    "        row['overall_redemption_ratio'] = history[history['coupon_discount'] < 0].shape[0] / history.shape[0]\n",
    "    else:\n",
    "        row['overall_redemption_ratio'] = np.NaN\n",
    "        \n",
    "    return row\n",
    "\n",
    "def apply_range_features(df):\n",
    "    return df.apply(extract_range_features, axis=1)"
   ]
  },
  {
   "cell_type": "code",
   "execution_count": 31,
   "metadata": {},
   "outputs": [
    {
     "name": "stdout",
     "output_type": "stream",
     "text": [
      "<class 'pandas.core.frame.DataFrame'>\n",
      "Int64Index: 128595 entries, 0 to 128594\n",
      "Columns: 206 entries, age_range to start_date\n",
      "dtypes: datetime64[ns](2), float64(117), int64(76), object(11)\n",
      "memory usage: 203.1+ MB\n"
     ]
    }
   ],
   "source": [
    "total_data = parallelize_dataframe(total_data, apply_range_features, n_cores=4)\n",
    "# total_data = apply_range_features(total_data.head(5))\n",
    "total_data.info()"
   ]
  },
  {
   "cell_type": "markdown",
   "metadata": {},
   "source": [
    "#### Derive new variables"
   ]
  },
  {
   "cell_type": "code",
   "execution_count": 32,
   "metadata": {},
   "outputs": [
    {
     "name": "stdout",
     "output_type": "stream",
     "text": [
      "<class 'pandas.core.frame.DataFrame'>\n",
      "Int64Index: 128595 entries, 0 to 128594\n",
      "Columns: 364 entries, age_range to match_rare_category\n",
      "dtypes: datetime64[ns](2), float64(247), int64(104), object(11)\n",
      "memory usage: 358.1+ MB\n"
     ]
    }
   ],
   "source": [
    "# Deriving more variables from existing\n",
    "for column in ['unique_items', 'items', 'quantity', 'sprice', 'bprice', 'odiscount', 'cdiscount', 'tdiscount', 'podiscount', 'pcdiscount', 'ptdiscount', 'sprice_pq', 'bprice_pq', 'odiscount_pq', 'cdiscount_pq', 'tdiscount_pq', 'podiscount_pq', 'pcdiscount_pq', 'ptdiscount_pq', 'unique_brand', 'unique_brandt', 'unique_category', 'coverage_brand', 'coverage_category']:\n",
    "    total_data['diff_overall_'+column] = total_data['overall_'+column] - total_data['overall_coupon_'+column]\n",
    "    total_data['diff_range_'+column] = total_data['range_'+column] - total_data['range_coupon_'+column]\n",
    "    total_data['diff_coupon_'+column] = total_data['overall_coupon_'+column] - total_data['range_coupon_'+column]\n",
    "    \n",
    "    total_data['diff_p_overall_'+column] = total_data['diff_overall_'+column] / total_data['overall_'+column]\n",
    "    total_data['diff_p_range_'+column] = total_data['diff_range_'+column] / total_data['range_'+column]\n",
    "    total_data['diff_p_coupon_'+column] = total_data['diff_coupon_'+column] / total_data['overall_coupon_'+column]\n",
    "\n",
    "for column in ['unique_items', 'unique_brand', 'unique_brandt', 'unique_category', 'coverage_item', 'coverage_brand', 'coverage_brandt', 'coverage_category']:\n",
    "    total_data['c_diff_'+column] = total_data['c_'+column] - total_data['range_coupon_'+column]\n",
    "    \n",
    "for column in ['freq_brand', 'rare_brand', 'freq_brandt', 'rare_brandt', 'freq_category', 'rare_category']:\n",
    "    total_data['match_'+column] = (total_data['c_'+column] == total_data['range_coupon_'+column]).astype('int')\n",
    "    \n",
    "total_data.info()"
   ]
  },
  {
   "cell_type": "markdown",
   "metadata": {},
   "source": [
    " "
   ]
  },
  {
   "cell_type": "markdown",
   "metadata": {},
   "source": [
    " #### Splitting total data into train and test"
   ]
  },
  {
   "cell_type": "code",
   "execution_count": 33,
   "metadata": {},
   "outputs": [
    {
     "name": "stdout",
     "output_type": "stream",
     "text": [
      "<class 'pandas.core.frame.DataFrame'>\n",
      "Int64Index: 50226 entries, 0 to 50225\n",
      "Columns: 364 entries, id to match_rare_category\n",
      "dtypes: datetime64[ns](2), float64(247), int64(104), object(11)\n",
      "memory usage: 139.9+ MB\n"
     ]
    }
   ],
   "source": [
    "test_data = test_data[['id']].merge(total_data, on='id', how='left')\n",
    "test_data.info()"
   ]
  },
  {
   "cell_type": "code",
   "execution_count": 34,
   "metadata": {},
   "outputs": [],
   "source": [
    "test_data.to_csv('data/test/test_feature.csv', index=False)"
   ]
  },
  {
   "cell_type": "code",
   "execution_count": 35,
   "metadata": {},
   "outputs": [
    {
     "name": "stdout",
     "output_type": "stream",
     "text": [
      "<class 'pandas.core.frame.DataFrame'>\n",
      "Int64Index: 78369 entries, 0 to 78368\n",
      "Columns: 365 entries, id to match_rare_category\n",
      "dtypes: datetime64[ns](2), float64(247), int64(105), object(11)\n",
      "memory usage: 218.8+ MB\n"
     ]
    }
   ],
   "source": [
    "train_data = train_data[['id','redemption_status']].merge(total_data, on='id', how='left')\n",
    "train_data.info()"
   ]
  },
  {
   "cell_type": "code",
   "execution_count": 36,
   "metadata": {},
   "outputs": [],
   "source": [
    "train_data.to_csv('data/train/train_feature.csv', index=False)"
   ]
  },
  {
   "cell_type": "markdown",
   "metadata": {},
   "source": [
    " "
   ]
  },
  {
   "cell_type": "markdown",
   "metadata": {},
   "source": [
    " "
   ]
  },
  {
   "cell_type": "markdown",
   "metadata": {},
   "source": [
    " "
   ]
  },
  {
   "cell_type": "markdown",
   "metadata": {},
   "source": [
    "# Summary"
   ]
  },
  {
   "cell_type": "markdown",
   "metadata": {},
   "source": [
    "1. Customer Information<br>\n",
    "    a. There were many missing values in \"no_of_children\" and \"marital_status\"<br>\n",
    "    b. Assuming missing no_of_children as zero childrens<br>\n",
    "    c. Marital Status was calculated using family_size and no_of_children<br>\n",
    "2. Train and Test data contains many customer whose information is not available\n",
    "3. Derived new variables from coupons and customer transactions\n",
    "4. Merged all other data with train and test dataset\n",
    "5. Derived new variables related to change is customer behaviors and matching with coupon data\n",
    "6. There are lots of Outliers present in the dataset, model must learn that in order to predict the redemption"
   ]
  }
 ],
 "metadata": {
  "kernelspec": {
   "display_name": "Python 3",
   "language": "python",
   "name": "python3"
  },
  "language_info": {
   "codemirror_mode": {
    "name": "ipython",
    "version": 3
   },
   "file_extension": ".py",
   "mimetype": "text/x-python",
   "name": "python",
   "nbconvert_exporter": "python",
   "pygments_lexer": "ipython3",
   "version": "3.7.3"
  }
 },
 "nbformat": 4,
 "nbformat_minor": 2
}
