{
 "cells": [
  {
   "cell_type": "code",
   "execution_count": 1,
   "metadata": {},
   "outputs": [],
   "source": [
    "import numpy as np\n",
    "import pandas as pd\n",
    "import matplotlib.pyplot as plt"
   ]
  },
  {
   "cell_type": "code",
   "execution_count": 2,
   "metadata": {},
   "outputs": [
    {
     "data": {
      "text/html": [
       "<div>\n",
       "<style scoped>\n",
       "    .dataframe tbody tr th:only-of-type {\n",
       "        vertical-align: middle;\n",
       "    }\n",
       "\n",
       "    .dataframe tbody tr th {\n",
       "        vertical-align: top;\n",
       "    }\n",
       "\n",
       "    .dataframe thead th {\n",
       "        text-align: right;\n",
       "    }\n",
       "</style>\n",
       "<table border=\"1\" class=\"dataframe\">\n",
       "  <thead>\n",
       "    <tr style=\"text-align: right;\">\n",
       "      <th></th>\n",
       "      <th>item_id</th>\n",
       "      <th>brand</th>\n",
       "      <th>brand_type</th>\n",
       "      <th>category</th>\n",
       "    </tr>\n",
       "  </thead>\n",
       "  <tbody>\n",
       "    <tr>\n",
       "      <td>0</td>\n",
       "      <td>1</td>\n",
       "      <td>1</td>\n",
       "      <td>1</td>\n",
       "      <td>Grocery</td>\n",
       "    </tr>\n",
       "    <tr>\n",
       "      <td>1</td>\n",
       "      <td>2</td>\n",
       "      <td>1</td>\n",
       "      <td>1</td>\n",
       "      <td>Miscellaneous</td>\n",
       "    </tr>\n",
       "    <tr>\n",
       "      <td>2</td>\n",
       "      <td>3</td>\n",
       "      <td>56</td>\n",
       "      <td>0</td>\n",
       "      <td>Bakery</td>\n",
       "    </tr>\n",
       "    <tr>\n",
       "      <td>3</td>\n",
       "      <td>4</td>\n",
       "      <td>56</td>\n",
       "      <td>0</td>\n",
       "      <td>Grocery</td>\n",
       "    </tr>\n",
       "    <tr>\n",
       "      <td>4</td>\n",
       "      <td>5</td>\n",
       "      <td>56</td>\n",
       "      <td>0</td>\n",
       "      <td>Grocery</td>\n",
       "    </tr>\n",
       "  </tbody>\n",
       "</table>\n",
       "</div>"
      ],
      "text/plain": [
       "   item_id  brand  brand_type       category\n",
       "0        1      1           1        Grocery\n",
       "1        2      1           1  Miscellaneous\n",
       "2        3     56           0         Bakery\n",
       "3        4     56           0        Grocery\n",
       "4        5     56           0        Grocery"
      ]
     },
     "execution_count": 2,
     "metadata": {},
     "output_type": "execute_result"
    }
   ],
   "source": [
    "item_data = pd.read_csv('data/train/item_data.csv')\n",
    "item_data['brand_type'] = item_data['brand_type'].replace({'Established': 1, 'Local': 0})\n",
    "item_data.head()"
   ]
  },
  {
   "cell_type": "code",
   "execution_count": 3,
   "metadata": {},
   "outputs": [
    {
     "name": "stdout",
     "output_type": "stream",
     "text": [
      "<class 'pandas.core.frame.DataFrame'>\n",
      "RangeIndex: 28 entries, 0 to 27\n",
      "Data columns (total 5 columns):\n",
      "campaign_id      28 non-null int64\n",
      "campaign_type    28 non-null int64\n",
      "start_date       28 non-null datetime64[ns]\n",
      "end_date         28 non-null datetime64[ns]\n",
      "duration         28 non-null int64\n",
      "dtypes: datetime64[ns](2), int64(3)\n",
      "memory usage: 1.2 KB\n"
     ]
    }
   ],
   "source": [
    "campaign_data = pd.read_csv('data/train/campaign_data.csv', \n",
    "                            parse_dates=['start_date', 'end_date'], dayfirst=True)\n",
    "campaign_data['campaign_type'] = campaign_data['campaign_type'].replace({'X': 0, 'Y': 1})\n",
    "campaign_data['duration'] = (campaign_data['end_date'] - campaign_data['start_date']).dt.days\n",
    "campaign_data.info()"
   ]
  },
  {
   "cell_type": "code",
   "execution_count": 4,
   "metadata": {},
   "outputs": [
    {
     "name": "stdout",
     "output_type": "stream",
     "text": [
      "<class 'pandas.core.frame.DataFrame'>\n",
      "Int64Index: 28 entries, 24 to 26\n",
      "Data columns (total 4 columns):\n",
      "campaign_type    28 non-null int64\n",
      "start_date       28 non-null datetime64[ns]\n",
      "end_date         28 non-null datetime64[ns]\n",
      "duration         28 non-null int64\n",
      "dtypes: datetime64[ns](2), int64(2)\n",
      "memory usage: 1.1 KB\n"
     ]
    }
   ],
   "source": [
    "campaign_data_2 = campaign_data.set_index('campaign_id')\n",
    "campaign_data_2.info()"
   ]
  },
  {
   "cell_type": "code",
   "execution_count": 5,
   "metadata": {},
   "outputs": [
    {
     "data": {
      "text/html": [
       "<div>\n",
       "<style scoped>\n",
       "    .dataframe tbody tr th:only-of-type {\n",
       "        vertical-align: middle;\n",
       "    }\n",
       "\n",
       "    .dataframe tbody tr th {\n",
       "        vertical-align: top;\n",
       "    }\n",
       "\n",
       "    .dataframe thead th {\n",
       "        text-align: right;\n",
       "    }\n",
       "</style>\n",
       "<table border=\"1\" class=\"dataframe\">\n",
       "  <thead>\n",
       "    <tr style=\"text-align: right;\">\n",
       "      <th></th>\n",
       "      <th>customer_id</th>\n",
       "      <th>age_range</th>\n",
       "      <th>marital_status</th>\n",
       "      <th>rented</th>\n",
       "      <th>family_size</th>\n",
       "      <th>no_of_children</th>\n",
       "      <th>income_bracket</th>\n",
       "    </tr>\n",
       "  </thead>\n",
       "  <tbody>\n",
       "    <tr>\n",
       "      <td>0</td>\n",
       "      <td>1</td>\n",
       "      <td>70+</td>\n",
       "      <td>Married</td>\n",
       "      <td>0</td>\n",
       "      <td>2</td>\n",
       "      <td>0</td>\n",
       "      <td>4</td>\n",
       "    </tr>\n",
       "    <tr>\n",
       "      <td>1</td>\n",
       "      <td>6</td>\n",
       "      <td>46-55</td>\n",
       "      <td>Married</td>\n",
       "      <td>0</td>\n",
       "      <td>2</td>\n",
       "      <td>0</td>\n",
       "      <td>5</td>\n",
       "    </tr>\n",
       "    <tr>\n",
       "      <td>2</td>\n",
       "      <td>7</td>\n",
       "      <td>26-35</td>\n",
       "      <td>Married</td>\n",
       "      <td>0</td>\n",
       "      <td>3</td>\n",
       "      <td>1</td>\n",
       "      <td>3</td>\n",
       "    </tr>\n",
       "    <tr>\n",
       "      <td>3</td>\n",
       "      <td>8</td>\n",
       "      <td>26-35</td>\n",
       "      <td>Married</td>\n",
       "      <td>0</td>\n",
       "      <td>4</td>\n",
       "      <td>2</td>\n",
       "      <td>6</td>\n",
       "    </tr>\n",
       "    <tr>\n",
       "      <td>4</td>\n",
       "      <td>10</td>\n",
       "      <td>46-55</td>\n",
       "      <td>Single</td>\n",
       "      <td>0</td>\n",
       "      <td>1</td>\n",
       "      <td>0</td>\n",
       "      <td>5</td>\n",
       "    </tr>\n",
       "  </tbody>\n",
       "</table>\n",
       "</div>"
      ],
      "text/plain": [
       "   customer_id age_range marital_status  rented  family_size  no_of_children  \\\n",
       "0            1       70+        Married       0            2               0   \n",
       "1            6     46-55        Married       0            2               0   \n",
       "2            7     26-35        Married       0            3               1   \n",
       "3            8     26-35        Married       0            4               2   \n",
       "4           10     46-55         Single       0            1               0   \n",
       "\n",
       "   income_bracket  \n",
       "0               4  \n",
       "1               5  \n",
       "2               3  \n",
       "3               6  \n",
       "4               5  "
      ]
     },
     "execution_count": 5,
     "metadata": {},
     "output_type": "execute_result"
    }
   ],
   "source": [
    "def get_marital_status(row):\n",
    "    na_row = row.isna()\n",
    "    if not na_row['marital_status']:\n",
    "        return row['marital_status']\n",
    "    return 'Married' if row['family_size'] - row['no_of_children'] > 1 else 'Single'\n",
    "\n",
    "customer_data = pd.read_csv('data/train/customer_demographics.csv')\n",
    "customer_data['family_size'] = customer_data['family_size'].str.replace('+','').astype('int')\n",
    "customer_data['no_of_children'] = customer_data['no_of_children'].fillna('0').str.replace('+','').astype('int')\n",
    "customer_data['marital_status'] = customer_data.apply(get_marital_status, axis=1)\n",
    "\n",
    "customer_data.head()"
   ]
  },
  {
   "cell_type": "code",
   "execution_count": 6,
   "metadata": {},
   "outputs": [
    {
     "name": "stdout",
     "output_type": "stream",
     "text": [
      "<class 'pandas.core.frame.DataFrame'>\n",
      "MultiIndex: 1324566 entries, (1501, 2012-01-02 00:00:00) to (1129, 2013-06-30 00:00:00)\n",
      "Data columns (total 13 columns):\n",
      "item_id               1324566 non-null int64\n",
      "quantity              1324566 non-null int64\n",
      "selling_price         1324566 non-null float64\n",
      "other_discount        1324566 non-null float64\n",
      "coupon_discount       1324566 non-null float64\n",
      "total_discount        1324566 non-null float64\n",
      "selling_price_pq      1324566 non-null float64\n",
      "other_discount_pq     1324566 non-null float64\n",
      "coupon_discount_pq    1324566 non-null float64\n",
      "total_discount_pq     1324566 non-null float64\n",
      "brand                 1324566 non-null int64\n",
      "brand_type            1324566 non-null int64\n",
      "category              1324566 non-null object\n",
      "dtypes: float64(8), int64(4), object(1)\n",
      "memory usage: 136.4+ MB\n"
     ]
    }
   ],
   "source": [
    "transaction_data = pd.read_csv('data/train/customer_transaction_data.csv', parse_dates=['date'])\n",
    "transaction_data['total_discount'] = transaction_data['coupon_discount'] + transaction_data['other_discount']\n",
    "transaction_data['selling_price_pq'] = transaction_data['selling_price'] / transaction_data['quantity']\n",
    "transaction_data['other_discount_pq'] = transaction_data['other_discount'] / transaction_data['quantity']\n",
    "transaction_data['coupon_discount_pq'] = transaction_data['coupon_discount'] / transaction_data['quantity']\n",
    "transaction_data['total_discount_pq'] = transaction_data['coupon_discount_pq'] + transaction_data['other_discount_pq']\n",
    "transaction_data['date'] = pd.to_datetime(transaction_data['date'])\n",
    "transaction_data = transaction_data.merge(item_data, on='item_id', how='left')\n",
    "transaction_data = transaction_data.set_index(['customer_id','date'])\n",
    "transaction_data.info()"
   ]
  },
  {
   "cell_type": "code",
   "execution_count": 7,
   "metadata": {},
   "outputs": [
    {
     "data": {
      "text/html": [
       "<div>\n",
       "<style scoped>\n",
       "    .dataframe tbody tr th:only-of-type {\n",
       "        vertical-align: middle;\n",
       "    }\n",
       "\n",
       "    .dataframe tbody tr th {\n",
       "        vertical-align: top;\n",
       "    }\n",
       "\n",
       "    .dataframe thead th {\n",
       "        text-align: right;\n",
       "    }\n",
       "</style>\n",
       "<table border=\"1\" class=\"dataframe\">\n",
       "  <thead>\n",
       "    <tr style=\"text-align: right;\">\n",
       "      <th></th>\n",
       "      <th>coupon_id</th>\n",
       "      <th>item_id</th>\n",
       "      <th>brand</th>\n",
       "      <th>brand_type</th>\n",
       "      <th>category</th>\n",
       "    </tr>\n",
       "  </thead>\n",
       "  <tbody>\n",
       "    <tr>\n",
       "      <td>0</td>\n",
       "      <td>105</td>\n",
       "      <td>37</td>\n",
       "      <td>56</td>\n",
       "      <td>0</td>\n",
       "      <td>Grocery</td>\n",
       "    </tr>\n",
       "    <tr>\n",
       "      <td>1</td>\n",
       "      <td>107</td>\n",
       "      <td>75</td>\n",
       "      <td>56</td>\n",
       "      <td>0</td>\n",
       "      <td>Grocery</td>\n",
       "    </tr>\n",
       "    <tr>\n",
       "      <td>2</td>\n",
       "      <td>494</td>\n",
       "      <td>76</td>\n",
       "      <td>209</td>\n",
       "      <td>1</td>\n",
       "      <td>Grocery</td>\n",
       "    </tr>\n",
       "    <tr>\n",
       "      <td>3</td>\n",
       "      <td>522</td>\n",
       "      <td>77</td>\n",
       "      <td>278</td>\n",
       "      <td>1</td>\n",
       "      <td>Grocery</td>\n",
       "    </tr>\n",
       "    <tr>\n",
       "      <td>4</td>\n",
       "      <td>518</td>\n",
       "      <td>77</td>\n",
       "      <td>278</td>\n",
       "      <td>1</td>\n",
       "      <td>Grocery</td>\n",
       "    </tr>\n",
       "  </tbody>\n",
       "</table>\n",
       "</div>"
      ],
      "text/plain": [
       "   coupon_id  item_id  brand  brand_type category\n",
       "0        105       37     56           0  Grocery\n",
       "1        107       75     56           0  Grocery\n",
       "2        494       76    209           1  Grocery\n",
       "3        522       77    278           1  Grocery\n",
       "4        518       77    278           1  Grocery"
      ]
     },
     "execution_count": 7,
     "metadata": {},
     "output_type": "execute_result"
    }
   ],
   "source": [
    "coupon_item = pd.read_csv('data/train/coupon_item_mapping.csv')\n",
    "coupon_item = coupon_item.merge(item_data, how='left', on='item_id')\n",
    "coupon_item.head()"
   ]
  },
  {
   "cell_type": "code",
   "execution_count": 8,
   "metadata": {},
   "outputs": [
    {
     "name": "stdout",
     "output_type": "stream",
     "text": [
      "<class 'pandas.core.frame.DataFrame'>\n",
      "Int64Index: 1116 entries, 1 to 1116\n",
      "Data columns (total 16 columns):\n",
      "c_item_id_count            1116 non-null int64\n",
      "c_brand_count              1116 non-null int64\n",
      "c_brand_freq               1116 non-null int64\n",
      "c_brand_rare               1116 non-null int64\n",
      "c_brand_freq_count         1116 non-null int64\n",
      "c_brand_rare_count         1116 non-null int64\n",
      "c_brand_type_count         1116 non-null int64\n",
      "c_brand_type_freq          1116 non-null int64\n",
      "c_brand_type_rare          1116 non-null int64\n",
      "c_brand_type_freq_count    1116 non-null int64\n",
      "c_brand_type_rare_count    1116 non-null int64\n",
      "c_category_count           1116 non-null int64\n",
      "c_category_freq            1116 non-null object\n",
      "c_category_rare            1116 non-null object\n",
      "c_category_freq_count      1116 non-null int64\n",
      "c_category_rare_count      1116 non-null int64\n",
      "dtypes: int64(14), object(2)\n",
      "memory usage: 148.2+ KB\n"
     ]
    }
   ],
   "source": [
    "def most_frequent(s):\n",
    "    return s.value_counts().index[0]\n",
    "\n",
    "def least_frequent(s):\n",
    "    return s.value_counts().index[-1]\n",
    "\n",
    "def most_frequent_count(s):\n",
    "    return s.value_counts().values[0]\n",
    "\n",
    "def least_frequent_count(s):\n",
    "    return s.value_counts().values[-1]\n",
    "\n",
    "coupon_data = coupon_item.groupby('coupon_id').agg({\n",
    "    'item_id': ['nunique'],\n",
    "    'brand': ['nunique', most_frequent, least_frequent, most_frequent_count, least_frequent_count],\n",
    "    'brand_type': ['nunique', most_frequent, least_frequent, most_frequent_count, least_frequent_count],\n",
    "    'category': ['nunique', most_frequent, least_frequent, most_frequent_count, least_frequent_count]\n",
    "})\n",
    "coupon_data.columns = ['c_item_id_count', 'c_brand_count', 'c_brand_freq', 'c_brand_rare', \n",
    "                       'c_brand_freq_count', 'c_brand_rare_count', 'c_brand_type_count', 'c_brand_type_freq', \n",
    "                       'c_brand_type_rare', 'c_brand_type_freq_count', 'c_brand_type_rare_count', \n",
    "                       'c_category_count', 'c_category_freq', 'c_category_rare', 'c_category_freq_count', \n",
    "                       'c_category_rare_count']\n",
    "coupon_data.info()"
   ]
  },
  {
   "cell_type": "markdown",
   "metadata": {},
   "source": [
    " "
   ]
  },
  {
   "cell_type": "code",
   "execution_count": null,
   "metadata": {},
   "outputs": [],
   "source": []
  },
  {
   "cell_type": "markdown",
   "metadata": {},
   "source": [
    " "
   ]
  },
  {
   "cell_type": "markdown",
   "metadata": {},
   "source": [
    " "
   ]
  },
  {
   "cell_type": "code",
   "execution_count": 9,
   "metadata": {},
   "outputs": [
    {
     "data": {
      "text/plain": [
       "(78369, 5)"
      ]
     },
     "execution_count": 9,
     "metadata": {},
     "output_type": "execute_result"
    }
   ],
   "source": [
    "train_data = pd.read_csv('data/train/train.csv')\n",
    "train_data.shape"
   ]
  },
  {
   "cell_type": "code",
   "execution_count": 10,
   "metadata": {},
   "outputs": [
    {
     "data": {
      "text/plain": [
       "(50226, 4)"
      ]
     },
     "execution_count": 10,
     "metadata": {},
     "output_type": "execute_result"
    }
   ],
   "source": [
    "test_data = pd.read_csv('data/test/test.csv')\n",
    "test_data.shape"
   ]
  },
  {
   "cell_type": "code",
   "execution_count": 11,
   "metadata": {},
   "outputs": [
    {
     "name": "stdout",
     "output_type": "stream",
     "text": [
      "<class 'pandas.core.frame.DataFrame'>\n",
      "Int64Index: 128595 entries, 0 to 50225\n",
      "Data columns (total 4 columns):\n",
      "campaign_id    128595 non-null int64\n",
      "coupon_id      128595 non-null int64\n",
      "customer_id    128595 non-null int64\n",
      "id             128595 non-null int64\n",
      "dtypes: int64(4)\n",
      "memory usage: 4.9 MB\n"
     ]
    }
   ],
   "source": [
    "columns = train_data.columns[train_data.columns != 'redemption_status']\n",
    "total_data = train_data[columns].append(test_data, sort=True)\n",
    "total_data.info()"
   ]
  },
  {
   "cell_type": "code",
   "execution_count": 12,
   "metadata": {},
   "outputs": [
    {
     "name": "stdout",
     "output_type": "stream",
     "text": [
      "<class 'pandas.core.frame.DataFrame'>\n",
      "Int64Index: 128595 entries, 0 to 128594\n",
      "Data columns (total 30 columns):\n",
      "campaign_id                128595 non-null int64\n",
      "coupon_id                  128595 non-null int64\n",
      "customer_id                128595 non-null int64\n",
      "id                         128595 non-null int64\n",
      "campaign_type              128595 non-null int64\n",
      "start_date                 128595 non-null datetime64[ns]\n",
      "end_date                   128595 non-null datetime64[ns]\n",
      "duration                   128595 non-null int64\n",
      "age_range                  74600 non-null object\n",
      "marital_status             74600 non-null object\n",
      "rented                     74600 non-null float64\n",
      "family_size                74600 non-null float64\n",
      "no_of_children             74600 non-null float64\n",
      "income_bracket             74600 non-null float64\n",
      "c_item_id_count            128595 non-null int64\n",
      "c_brand_count              128595 non-null int64\n",
      "c_brand_freq               128595 non-null int64\n",
      "c_brand_rare               128595 non-null int64\n",
      "c_brand_freq_count         128595 non-null int64\n",
      "c_brand_rare_count         128595 non-null int64\n",
      "c_brand_type_count         128595 non-null int64\n",
      "c_brand_type_freq          128595 non-null int64\n",
      "c_brand_type_rare          128595 non-null int64\n",
      "c_brand_type_freq_count    128595 non-null int64\n",
      "c_brand_type_rare_count    128595 non-null int64\n",
      "c_category_count           128595 non-null int64\n",
      "c_category_freq            128595 non-null object\n",
      "c_category_rare            128595 non-null object\n",
      "c_category_freq_count      128595 non-null int64\n",
      "c_category_rare_count      128595 non-null int64\n",
      "dtypes: datetime64[ns](2), float64(4), int64(20), object(4)\n",
      "memory usage: 30.4+ MB\n"
     ]
    }
   ],
   "source": [
    "total_data = total_data.merge(campaign_data, on='campaign_id', how='left')\n",
    "total_data = total_data.merge(customer_data, on='customer_id', how='left')\n",
    "total_data = total_data.merge(coupon_data, on='coupon_id', how='left')\n",
    "total_data.info()"
   ]
  },
  {
   "cell_type": "code",
   "execution_count": 14,
   "metadata": {},
   "outputs": [
    {
     "name": "stdout",
     "output_type": "stream",
     "text": [
      "<class 'pandas.core.frame.DataFrame'>\n",
      "Int64Index: 15 entries, 0 to 14\n",
      "Data columns (total 73 columns):\n",
      "campaign_id                15 non-null int64\n",
      "coupon_id                  15 non-null int64\n",
      "customer_id                15 non-null int64\n",
      "id                         15 non-null int64\n",
      "campaign_type              15 non-null int64\n",
      "start_date                 15 non-null datetime64[ns]\n",
      "end_date                   15 non-null datetime64[ns]\n",
      "duration                   15 non-null int64\n",
      "age_range                  12 non-null object\n",
      "marital_status             12 non-null object\n",
      "rented                     12 non-null float64\n",
      "family_size                12 non-null float64\n",
      "no_of_children             12 non-null float64\n",
      "income_bracket             12 non-null float64\n",
      "c_item_id_count            15 non-null int64\n",
      "c_brand_count              15 non-null int64\n",
      "c_brand_freq               15 non-null int64\n",
      "c_brand_rare               15 non-null int64\n",
      "c_brand_freq_count         15 non-null int64\n",
      "c_brand_rare_count         15 non-null int64\n",
      "c_brand_type_count         15 non-null int64\n",
      "c_brand_type_freq          15 non-null int64\n",
      "c_brand_type_rare          15 non-null int64\n",
      "c_brand_type_freq_count    15 non-null int64\n",
      "c_brand_type_rare_count    15 non-null int64\n",
      "c_category_count           15 non-null int64\n",
      "c_category_freq            15 non-null object\n",
      "c_category_rare            15 non-null object\n",
      "c_category_freq_count      15 non-null int64\n",
      "c_category_rare_count      15 non-null int64\n",
      "t_item_id_count            15 non-null int64\n",
      "t_brand_count              15 non-null int64\n",
      "t_brand_freq               15 non-null int64\n",
      "t_brand_rare               15 non-null int64\n",
      "t_brand_freq_count         15 non-null int64\n",
      "t_brand_rare_count         15 non-null int64\n",
      "t_brand_type_count         15 non-null int64\n",
      "t_brand_type_freq          15 non-null int64\n",
      "t_brand_type_rare          15 non-null int64\n",
      "t_brand_type_freq_count    15 non-null int64\n",
      "t_brand_type_rare_count    15 non-null int64\n",
      "t_category_count           15 non-null int64\n",
      "t_category_freq            15 non-null object\n",
      "t_category_rare            15 non-null object\n",
      "t_category_freq_count      15 non-null int64\n",
      "t_category_rare_count      15 non-null int64\n",
      "min_selling_price          15 non-null float64\n",
      "max_selling_price          15 non-null float64\n",
      "mean_selling_price         15 non-null float64\n",
      "min_other_discount         15 non-null float64\n",
      "max_other_discount         15 non-null float64\n",
      "mean_other_discount        15 non-null float64\n",
      "min_coupon_discount        15 non-null float64\n",
      "max_coupon_discount        15 non-null float64\n",
      "mean_coupon_discount       15 non-null float64\n",
      "min_total_discount         15 non-null float64\n",
      "max_total_discount         15 non-null float64\n",
      "mean_total_discount        15 non-null float64\n",
      "min_selling_price_pq       15 non-null float64\n",
      "max_selling_price_pq       15 non-null float64\n",
      "mean_selling_price_pq      15 non-null float64\n",
      "min_other_discount_pq      15 non-null float64\n",
      "max_other_discount_pq      15 non-null float64\n",
      "mean_other_discount_pq     15 non-null float64\n",
      "min_coupon_discount_pq     15 non-null float64\n",
      "max_coupon_discount_pq     15 non-null float64\n",
      "mean_coupon_discount_pq    15 non-null float64\n",
      "min_total_discount_pq      15 non-null float64\n",
      "max_total_discount_pq      15 non-null float64\n",
      "mean_total_discount_pq     15 non-null float64\n",
      "transc_coupon              15 non-null float64\n",
      "transc_other               15 non-null float64\n",
      "transc_any                 15 non-null float64\n",
      "dtypes: datetime64[ns](2), float64(31), int64(34), object(6)\n",
      "memory usage: 8.7+ KB\n"
     ]
    }
   ],
   "source": [
    "def get_transaction_details(row):\n",
    "    start_date = campaign_data_2.loc[row.campaign_id].start_date\n",
    "    history = transaction_data.loc[row.customer_id][:str(start_date)]\n",
    "    \n",
    "    row['t_item_id_count'] = history['item_id'].nunique()\n",
    "    \n",
    "    row['t_brand_count'] = history['brand'].nunique()\n",
    "    row['t_brand_freq'] = most_frequent(history['brand'])\n",
    "    row['t_brand_rare'] = least_frequent(history['brand'])\n",
    "    row['t_brand_freq_count'] = most_frequent_count(history['brand'])\n",
    "    row['t_brand_rare_count'] = least_frequent_count(history['brand'])\n",
    "    \n",
    "    row['t_brand_type_count'] = history['brand_type'].nunique()\n",
    "    row['t_brand_type_freq'] = most_frequent(history['brand_type'])\n",
    "    row['t_brand_type_rare'] = least_frequent(history['brand_type'])\n",
    "    row['t_brand_type_freq_count'] = most_frequent_count(history['brand_type'])\n",
    "    row['t_brand_type_rare_count'] = least_frequent_count(history['brand_type'])\n",
    "    \n",
    "    row['t_category_count'] = history['category'].nunique()\n",
    "    row['t_category_freq'] = most_frequent(history['category'])\n",
    "    row['t_category_rare'] = least_frequent(history['category'])\n",
    "    row['t_category_freq_count'] = most_frequent_count(history['category'])\n",
    "    row['t_category_rare_count'] = least_frequent_count(history['category'])\n",
    "    \n",
    "    row['min_selling_price'] = history['selling_price'].min()\n",
    "    row['max_selling_price'] = history['selling_price'].max()\n",
    "    row['mean_selling_price'] = history['selling_price'].mean()\n",
    "    \n",
    "    row['min_other_discount'] = history['other_discount'].min()\n",
    "    row['max_other_discount'] = history['other_discount'].max()\n",
    "    row['mean_other_discount'] = history['other_discount'].mean()\n",
    "    \n",
    "    row['min_coupon_discount'] = history['coupon_discount'].min()\n",
    "    row['max_coupon_discount'] = history['coupon_discount'].max()\n",
    "    row['mean_coupon_discount'] = history['coupon_discount'].mean()\n",
    "    \n",
    "    row['min_total_discount'] = history['total_discount'].min()\n",
    "    row['max_total_discount'] = history['total_discount'].max()\n",
    "    row['mean_total_discount'] = history['total_discount'].mean()\n",
    "    \n",
    "    row['min_selling_price_pq'] = history['selling_price_pq'].min()\n",
    "    row['max_selling_price_pq'] = history['selling_price_pq'].max()\n",
    "    row['mean_selling_price_pq'] = history['selling_price_pq'].mean()\n",
    "    \n",
    "    row['min_other_discount_pq'] = history['other_discount_pq'].min()\n",
    "    row['max_other_discount_pq'] = history['other_discount_pq'].max()\n",
    "    row['mean_other_discount_pq'] = history['other_discount_pq'].mean()\n",
    "    \n",
    "    row['min_coupon_discount_pq'] = history['coupon_discount_pq'].min()\n",
    "    row['max_coupon_discount_pq'] = history['coupon_discount_pq'].max()\n",
    "    row['mean_coupon_discount_pq'] = history['coupon_discount_pq'].mean()\n",
    "    \n",
    "    row['min_total_discount_pq'] = history['total_discount_pq'].min()\n",
    "    row['max_total_discount_pq'] = history['total_discount_pq'].max()\n",
    "    row['mean_total_discount_pq'] = history['total_discount_pq'].mean()\n",
    "    \n",
    "    if history.shape[0] != 0:\n",
    "        row['transc_coupon'] = history[history.coupon_discount < 0].shape[0] / history.shape[0]\n",
    "        row['transc_other'] = history[history.other_discount < 0].shape[0] / history.shape[0]\n",
    "        row['transc_any'] = history[history.total_discount < 0].shape[0] / history.shape[0]\n",
    "    else:\n",
    "        row['transc_coupon'] = 0\n",
    "        row['transc_other'] = 0\n",
    "        row['transc_any'] = 0\n",
    "    \n",
    "    return row\n",
    "    \n",
    "total_data = total_data.apply(get_transaction_details, axis=1)\n",
    "total_data.info()"
   ]
  },
  {
   "cell_type": "markdown",
   "metadata": {},
   "source": [
    " "
   ]
  },
  {
   "cell_type": "markdown",
   "metadata": {},
   "source": [
    " "
   ]
  },
  {
   "cell_type": "code",
   "execution_count": null,
   "metadata": {},
   "outputs": [],
   "source": [
    "test_data = test_data[['id']].merge(total_data, on='id', how='left')\n",
    "test_data.info()"
   ]
  },
  {
   "cell_type": "code",
   "execution_count": null,
   "metadata": {},
   "outputs": [],
   "source": [
    "test_data.to_csv('data/test/test_feature.csv', index=False)"
   ]
  },
  {
   "cell_type": "code",
   "execution_count": null,
   "metadata": {},
   "outputs": [],
   "source": [
    "train_data = train_data[['id','redemption_status']].merge(total_data, on='id', how='left')\n",
    "train_data.info()"
   ]
  },
  {
   "cell_type": "code",
   "execution_count": null,
   "metadata": {},
   "outputs": [],
   "source": [
    "train_data.to_csv('data/train/train_feature.csv', index=False)"
   ]
  }
 ],
 "metadata": {
  "kernelspec": {
   "display_name": "Python 3",
   "language": "python",
   "name": "python3"
  },
  "language_info": {
   "codemirror_mode": {
    "name": "ipython",
    "version": 3
   },
   "file_extension": ".py",
   "mimetype": "text/x-python",
   "name": "python",
   "nbconvert_exporter": "python",
   "pygments_lexer": "ipython3",
   "version": "3.7.4"
  }
 },
 "nbformat": 4,
 "nbformat_minor": 2
}
