{
 "cells": [
  {
   "cell_type": "code",
   "execution_count": 1,
   "metadata": {},
   "outputs": [],
   "source": [
    "import pandas as pd\n",
    "import numpy as np\n",
    "from lightgbm import LGBMClassifier\n",
    "from sklearn.model_selection import train_test_split, GridSearchCV\n",
    "from sklearn.metrics import roc_auc_score"
   ]
  },
  {
   "cell_type": "code",
   "execution_count": 2,
   "metadata": {},
   "outputs": [],
   "source": [
    "target = 'redemption_status'\n",
    "\n",
    "features = ['coupon_id', 'customer_id','campaign_type', 'duration', 'age_range', 'marital_status', 'rented', \n",
    "            'family_size', 'no_of_children', 'income_bracket', 'item_id_count', 'brand_count', 'brand_freq', \n",
    "            'brand_rare', 'brand_freq_count', 'brand_rare_count', 'brand_type_count', 'brand_type_freq', \n",
    "            'brand_type_rare', 'brand_type_freq_count', 'brand_type_rare_count', 'category_count', \n",
    "            'category_freq', 'category_rare', 'category_freq_count', 'category_rare_count']\n",
    "\n",
    "categorical_columns = ['coupon_id', 'customer_id', 'age_range', 'marital_status', 'brand_freq', 'brand_rare', \n",
    "                       'brand_type_freq', 'brand_type_rare', 'category_freq', 'category_rare']\n",
    "\n",
    "encoded_columns = []"
   ]
  },
  {
   "cell_type": "code",
   "execution_count": 3,
   "metadata": {},
   "outputs": [],
   "source": [
    "def preprocess(trainset, testset):        \n",
    "    dataset = trainset.append(testset, sort=False).fillna(0)\n",
    "    \n",
    "    for column in categorical_columns:\n",
    "        dataset[column] = dataset[column].astype('category')\n",
    "    \n",
    "    dataset = dataset[features]\n",
    "    \n",
    "#     dataset = pd.get_dummies(dataset[features])\n",
    "#     dataset = dataset.drop(encoded_columns, axis=1)\n",
    "    \n",
    "    trainset = trainset[[target]].join(dataset)\n",
    "    testset = testset[[]].join(dataset)\n",
    "    \n",
    "    return trainset, testset"
   ]
  },
  {
   "cell_type": "markdown",
   "metadata": {},
   "source": [
    " "
   ]
  },
  {
   "cell_type": "code",
   "execution_count": 4,
   "metadata": {},
   "outputs": [
    {
     "name": "stdout",
     "output_type": "stream",
     "text": [
      "<class 'pandas.core.frame.DataFrame'>\n",
      "Int64Index: 78369 entries, 1 to 128595\n",
      "Data columns (total 30 columns):\n",
      "redemption_status        78369 non-null int64\n",
      "campaign_id              78369 non-null int64\n",
      "coupon_id                78369 non-null int64\n",
      "customer_id              78369 non-null int64\n",
      "campaign_type            78369 non-null int64\n",
      "start_date               78369 non-null datetime64[ns]\n",
      "end_date                 78369 non-null datetime64[ns]\n",
      "duration                 78369 non-null int64\n",
      "age_range                43661 non-null object\n",
      "marital_status           43661 non-null object\n",
      "rented                   43661 non-null float64\n",
      "family_size              43661 non-null float64\n",
      "no_of_children           43661 non-null float64\n",
      "income_bracket           43661 non-null float64\n",
      "item_id_count            78369 non-null int64\n",
      "brand_count              78369 non-null int64\n",
      "brand_freq               78369 non-null int64\n",
      "brand_rare               78369 non-null int64\n",
      "brand_freq_count         78369 non-null int64\n",
      "brand_rare_count         78369 non-null int64\n",
      "brand_type_count         78369 non-null int64\n",
      "brand_type_freq          78369 non-null int64\n",
      "brand_type_rare          78369 non-null int64\n",
      "brand_type_freq_count    78369 non-null int64\n",
      "brand_type_rare_count    78369 non-null int64\n",
      "category_count           78369 non-null int64\n",
      "category_freq            78369 non-null object\n",
      "category_rare            78369 non-null object\n",
      "category_freq_count      78369 non-null int64\n",
      "category_rare_count      78369 non-null int64\n",
      "dtypes: datetime64[ns](2), float64(4), int64(20), object(4)\n",
      "memory usage: 18.5+ MB\n"
     ]
    }
   ],
   "source": [
    "trainset = pd.read_csv('data/train/train_feature.csv', index_col='id', parse_dates=['start_date','end_date'])\n",
    "trainset.info()"
   ]
  },
  {
   "cell_type": "code",
   "execution_count": 5,
   "metadata": {},
   "outputs": [
    {
     "data": {
      "text/html": [
       "<div>\n",
       "<style scoped>\n",
       "    .dataframe tbody tr th:only-of-type {\n",
       "        vertical-align: middle;\n",
       "    }\n",
       "\n",
       "    .dataframe tbody tr th {\n",
       "        vertical-align: top;\n",
       "    }\n",
       "\n",
       "    .dataframe thead th {\n",
       "        text-align: right;\n",
       "    }\n",
       "</style>\n",
       "<table border=\"1\" class=\"dataframe\">\n",
       "  <thead>\n",
       "    <tr style=\"text-align: right;\">\n",
       "      <th></th>\n",
       "      <th>campaign_id</th>\n",
       "      <th>coupon_id</th>\n",
       "      <th>customer_id</th>\n",
       "      <th>campaign_type</th>\n",
       "      <th>start_date</th>\n",
       "      <th>end_date</th>\n",
       "      <th>duration</th>\n",
       "      <th>age_range</th>\n",
       "      <th>marital_status</th>\n",
       "      <th>rented</th>\n",
       "      <th>...</th>\n",
       "      <th>brand_type_count</th>\n",
       "      <th>brand_type_freq</th>\n",
       "      <th>brand_type_rare</th>\n",
       "      <th>brand_type_freq_count</th>\n",
       "      <th>brand_type_rare_count</th>\n",
       "      <th>category_count</th>\n",
       "      <th>category_freq</th>\n",
       "      <th>category_rare</th>\n",
       "      <th>category_freq_count</th>\n",
       "      <th>category_rare_count</th>\n",
       "    </tr>\n",
       "    <tr>\n",
       "      <th>id</th>\n",
       "      <th></th>\n",
       "      <th></th>\n",
       "      <th></th>\n",
       "      <th></th>\n",
       "      <th></th>\n",
       "      <th></th>\n",
       "      <th></th>\n",
       "      <th></th>\n",
       "      <th></th>\n",
       "      <th></th>\n",
       "      <th></th>\n",
       "      <th></th>\n",
       "      <th></th>\n",
       "      <th></th>\n",
       "      <th></th>\n",
       "      <th></th>\n",
       "      <th></th>\n",
       "      <th></th>\n",
       "      <th></th>\n",
       "      <th></th>\n",
       "      <th></th>\n",
       "    </tr>\n",
       "  </thead>\n",
       "  <tbody>\n",
       "    <tr>\n",
       "      <td>3</td>\n",
       "      <td>22</td>\n",
       "      <td>869</td>\n",
       "      <td>967</td>\n",
       "      <td>0</td>\n",
       "      <td>2013-09-16</td>\n",
       "      <td>2013-10-18</td>\n",
       "      <td>32</td>\n",
       "      <td>36-45</td>\n",
       "      <td>Single</td>\n",
       "      <td>0.0</td>\n",
       "      <td>...</td>\n",
       "      <td>1</td>\n",
       "      <td>1</td>\n",
       "      <td>1</td>\n",
       "      <td>72</td>\n",
       "      <td>72</td>\n",
       "      <td>1</td>\n",
       "      <td>Grocery</td>\n",
       "      <td>Grocery</td>\n",
       "      <td>72</td>\n",
       "      <td>72</td>\n",
       "    </tr>\n",
       "    <tr>\n",
       "      <td>4</td>\n",
       "      <td>20</td>\n",
       "      <td>389</td>\n",
       "      <td>1566</td>\n",
       "      <td>1</td>\n",
       "      <td>2013-09-07</td>\n",
       "      <td>2013-11-16</td>\n",
       "      <td>70</td>\n",
       "      <td>26-35</td>\n",
       "      <td>Married</td>\n",
       "      <td>0.0</td>\n",
       "      <td>...</td>\n",
       "      <td>1</td>\n",
       "      <td>1</td>\n",
       "      <td>1</td>\n",
       "      <td>33</td>\n",
       "      <td>33</td>\n",
       "      <td>1</td>\n",
       "      <td>Pharmaceutical</td>\n",
       "      <td>Pharmaceutical</td>\n",
       "      <td>33</td>\n",
       "      <td>33</td>\n",
       "    </tr>\n",
       "    <tr>\n",
       "      <td>5</td>\n",
       "      <td>22</td>\n",
       "      <td>981</td>\n",
       "      <td>510</td>\n",
       "      <td>0</td>\n",
       "      <td>2013-09-16</td>\n",
       "      <td>2013-10-18</td>\n",
       "      <td>32</td>\n",
       "      <td>26-35</td>\n",
       "      <td>Single</td>\n",
       "      <td>0.0</td>\n",
       "      <td>...</td>\n",
       "      <td>1</td>\n",
       "      <td>1</td>\n",
       "      <td>1</td>\n",
       "      <td>19</td>\n",
       "      <td>19</td>\n",
       "      <td>1</td>\n",
       "      <td>Grocery</td>\n",
       "      <td>Grocery</td>\n",
       "      <td>19</td>\n",
       "      <td>19</td>\n",
       "    </tr>\n",
       "    <tr>\n",
       "      <td>8</td>\n",
       "      <td>25</td>\n",
       "      <td>1069</td>\n",
       "      <td>361</td>\n",
       "      <td>1</td>\n",
       "      <td>2013-10-21</td>\n",
       "      <td>2013-11-22</td>\n",
       "      <td>32</td>\n",
       "      <td>18-25</td>\n",
       "      <td>Single</td>\n",
       "      <td>0.0</td>\n",
       "      <td>...</td>\n",
       "      <td>1</td>\n",
       "      <td>1</td>\n",
       "      <td>1</td>\n",
       "      <td>74</td>\n",
       "      <td>74</td>\n",
       "      <td>1</td>\n",
       "      <td>Grocery</td>\n",
       "      <td>Grocery</td>\n",
       "      <td>74</td>\n",
       "      <td>74</td>\n",
       "    </tr>\n",
       "    <tr>\n",
       "      <td>10</td>\n",
       "      <td>17</td>\n",
       "      <td>498</td>\n",
       "      <td>811</td>\n",
       "      <td>1</td>\n",
       "      <td>2013-07-29</td>\n",
       "      <td>2013-08-30</td>\n",
       "      <td>32</td>\n",
       "      <td>NaN</td>\n",
       "      <td>NaN</td>\n",
       "      <td>NaN</td>\n",
       "      <td>...</td>\n",
       "      <td>1</td>\n",
       "      <td>1</td>\n",
       "      <td>1</td>\n",
       "      <td>18</td>\n",
       "      <td>18</td>\n",
       "      <td>1</td>\n",
       "      <td>Grocery</td>\n",
       "      <td>Grocery</td>\n",
       "      <td>18</td>\n",
       "      <td>18</td>\n",
       "    </tr>\n",
       "  </tbody>\n",
       "</table>\n",
       "<p>5 rows × 29 columns</p>\n",
       "</div>"
      ],
      "text/plain": [
       "    campaign_id  coupon_id  customer_id  campaign_type start_date   end_date  \\\n",
       "id                                                                             \n",
       "3            22        869          967              0 2013-09-16 2013-10-18   \n",
       "4            20        389         1566              1 2013-09-07 2013-11-16   \n",
       "5            22        981          510              0 2013-09-16 2013-10-18   \n",
       "8            25       1069          361              1 2013-10-21 2013-11-22   \n",
       "10           17        498          811              1 2013-07-29 2013-08-30   \n",
       "\n",
       "    duration age_range marital_status  rented  ...  brand_type_count  \\\n",
       "id                                             ...                     \n",
       "3         32     36-45         Single     0.0  ...                 1   \n",
       "4         70     26-35        Married     0.0  ...                 1   \n",
       "5         32     26-35         Single     0.0  ...                 1   \n",
       "8         32     18-25         Single     0.0  ...                 1   \n",
       "10        32       NaN            NaN     NaN  ...                 1   \n",
       "\n",
       "    brand_type_freq  brand_type_rare  brand_type_freq_count  \\\n",
       "id                                                            \n",
       "3                 1                1                     72   \n",
       "4                 1                1                     33   \n",
       "5                 1                1                     19   \n",
       "8                 1                1                     74   \n",
       "10                1                1                     18   \n",
       "\n",
       "    brand_type_rare_count  category_count   category_freq   category_rare  \\\n",
       "id                                                                          \n",
       "3                      72               1         Grocery         Grocery   \n",
       "4                      33               1  Pharmaceutical  Pharmaceutical   \n",
       "5                      19               1         Grocery         Grocery   \n",
       "8                      74               1         Grocery         Grocery   \n",
       "10                     18               1         Grocery         Grocery   \n",
       "\n",
       "    category_freq_count  category_rare_count  \n",
       "id                                            \n",
       "3                    72                   72  \n",
       "4                    33                   33  \n",
       "5                    19                   19  \n",
       "8                    74                   74  \n",
       "10                   18                   18  \n",
       "\n",
       "[5 rows x 29 columns]"
      ]
     },
     "execution_count": 5,
     "metadata": {},
     "output_type": "execute_result"
    }
   ],
   "source": [
    "testset = pd.read_csv('data/test/test_feature.csv', index_col='id', parse_dates=['start_date','end_date'])\n",
    "testset.head()"
   ]
  },
  {
   "cell_type": "code",
   "execution_count": 6,
   "metadata": {},
   "outputs": [
    {
     "name": "stdout",
     "output_type": "stream",
     "text": [
      "Trainset size: (78369, 27)\n",
      "Testset size: (50226, 26)\n"
     ]
    }
   ],
   "source": [
    "trainset, testset = preprocess(trainset, testset)\n",
    "\n",
    "print(\"Trainset size: {}\".format(trainset.shape))\n",
    "print(\"Testset size: {}\".format(testset.shape))"
   ]
  },
  {
   "cell_type": "code",
   "execution_count": 7,
   "metadata": {},
   "outputs": [],
   "source": [
    "feature_columns = features"
   ]
  },
  {
   "cell_type": "code",
   "execution_count": 8,
   "metadata": {},
   "outputs": [
    {
     "name": "stdout",
     "output_type": "stream",
     "text": [
      "Train set size: (62695, 26)\n",
      "Validation set size: (15674, 26)\n"
     ]
    }
   ],
   "source": [
    "trainset, validationset = train_test_split(trainset, random_state=41, test_size=0.2)\n",
    "\n",
    "X_train, y_train = trainset[feature_columns], trainset[target]\n",
    "X_val, y_val = validationset[feature_columns], validationset[target]\n",
    "\n",
    "print(\"Train set size: {}\".format(X_train.shape))\n",
    "print(\"Validation set size: {}\".format(X_val.shape))"
   ]
  },
  {
   "cell_type": "code",
   "execution_count": 9,
   "metadata": {},
   "outputs": [
    {
     "data": {
      "text/plain": [
       "0.8922934431367464"
      ]
     },
     "execution_count": 9,
     "metadata": {},
     "output_type": "execute_result"
    }
   ],
   "source": [
    "lgb = LGBMClassifier()\n",
    "lgb.fit(X_train, y_train, eval_metric='auc')\n",
    "y_pred = lgb.predict_proba(X_val)\n",
    "\n",
    "roc_auc_score(y_val, y_pred[:,1])"
   ]
  },
  {
   "cell_type": "markdown",
   "metadata": {},
   "source": [
    " "
   ]
  },
  {
   "cell_type": "markdown",
   "metadata": {},
   "source": [
    " "
   ]
  },
  {
   "cell_type": "code",
   "execution_count": 10,
   "metadata": {},
   "outputs": [],
   "source": [
    "X_test = testset[feature_columns]\n",
    "testset[target] = lgb.predict_proba(X_test)[:,1]\n",
    "\n",
    "submission = testset[[target]]\n",
    "submission.to_csv('data/report/report_1.csv')"
   ]
  }
 ],
 "metadata": {
  "kernelspec": {
   "display_name": "Python 3",
   "language": "python",
   "name": "python3"
  },
  "language_info": {
   "codemirror_mode": {
    "name": "ipython",
    "version": 3
   },
   "file_extension": ".py",
   "mimetype": "text/x-python",
   "name": "python",
   "nbconvert_exporter": "python",
   "pygments_lexer": "ipython3",
   "version": "3.7.4"
  }
 },
 "nbformat": 4,
 "nbformat_minor": 2
}
