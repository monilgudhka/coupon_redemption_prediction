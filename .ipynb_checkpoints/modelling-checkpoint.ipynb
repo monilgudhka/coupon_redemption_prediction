{
 "cells": [
  {
   "cell_type": "code",
   "execution_count": 1,
   "metadata": {},
   "outputs": [],
   "source": [
    "import pandas as pd\n",
    "import numpy as np\n",
    "from lightgbm import LGBMClassifier\n",
    "from sklearn.model_selection import train_test_split, GridSearchCV\n",
    "from sklearn.metrics import roc_auc_score"
   ]
  },
  {
   "cell_type": "code",
   "execution_count": 2,
   "metadata": {},
   "outputs": [],
   "source": [
    "target = 'redemption_status'\n",
    "\n",
    "features = ['customer_id', 'campaign_type', 'duration']\n",
    "\n",
    "categorical_columns = ['customer_id']\n",
    "\n",
    "encoded_columns = []"
   ]
  },
  {
   "cell_type": "code",
   "execution_count": 3,
   "metadata": {},
   "outputs": [],
   "source": [
    "def preprocess(trainset, testset):        \n",
    "    dataset = trainset.append(testset, sort=False).fillna(0)\n",
    "    \n",
    "    for column in categorical_columns:\n",
    "        dataset[column] = dataset[column].astype('category')\n",
    "    \n",
    "    dataset = dataset[features]\n",
    "    \n",
    "#     dataset = pd.get_dummies(dataset[features])\n",
    "#     dataset = dataset.drop(encoded_columns, axis=1)\n",
    "    \n",
    "    trainset = trainset[[target]].join(dataset)\n",
    "    testset = testset[[]].join(dataset)\n",
    "    \n",
    "    return trainset, testset"
   ]
  },
  {
   "cell_type": "markdown",
   "metadata": {},
   "source": [
    " "
   ]
  },
  {
   "cell_type": "code",
   "execution_count": 4,
   "metadata": {},
   "outputs": [
    {
     "data": {
      "text/html": [
       "<div>\n",
       "<style scoped>\n",
       "    .dataframe tbody tr th:only-of-type {\n",
       "        vertical-align: middle;\n",
       "    }\n",
       "\n",
       "    .dataframe tbody tr th {\n",
       "        vertical-align: top;\n",
       "    }\n",
       "\n",
       "    .dataframe thead th {\n",
       "        text-align: right;\n",
       "    }\n",
       "</style>\n",
       "<table border=\"1\" class=\"dataframe\">\n",
       "  <thead>\n",
       "    <tr style=\"text-align: right;\">\n",
       "      <th></th>\n",
       "      <th>redemption_status</th>\n",
       "      <th>campaign_id</th>\n",
       "      <th>coupon_id</th>\n",
       "      <th>customer_id</th>\n",
       "      <th>campaign_type</th>\n",
       "      <th>start_date</th>\n",
       "      <th>end_date</th>\n",
       "      <th>duration</th>\n",
       "    </tr>\n",
       "    <tr>\n",
       "      <th>id</th>\n",
       "      <th></th>\n",
       "      <th></th>\n",
       "      <th></th>\n",
       "      <th></th>\n",
       "      <th></th>\n",
       "      <th></th>\n",
       "      <th></th>\n",
       "      <th></th>\n",
       "    </tr>\n",
       "  </thead>\n",
       "  <tbody>\n",
       "    <tr>\n",
       "      <td>1</td>\n",
       "      <td>0</td>\n",
       "      <td>13</td>\n",
       "      <td>27</td>\n",
       "      <td>1053</td>\n",
       "      <td>0</td>\n",
       "      <td>2013-05-19</td>\n",
       "      <td>2013-07-05</td>\n",
       "      <td>47</td>\n",
       "    </tr>\n",
       "    <tr>\n",
       "      <td>2</td>\n",
       "      <td>0</td>\n",
       "      <td>13</td>\n",
       "      <td>116</td>\n",
       "      <td>48</td>\n",
       "      <td>0</td>\n",
       "      <td>2013-05-19</td>\n",
       "      <td>2013-07-05</td>\n",
       "      <td>47</td>\n",
       "    </tr>\n",
       "    <tr>\n",
       "      <td>6</td>\n",
       "      <td>0</td>\n",
       "      <td>9</td>\n",
       "      <td>635</td>\n",
       "      <td>205</td>\n",
       "      <td>1</td>\n",
       "      <td>2013-03-11</td>\n",
       "      <td>2013-04-12</td>\n",
       "      <td>32</td>\n",
       "    </tr>\n",
       "    <tr>\n",
       "      <td>7</td>\n",
       "      <td>0</td>\n",
       "      <td>13</td>\n",
       "      <td>644</td>\n",
       "      <td>1050</td>\n",
       "      <td>0</td>\n",
       "      <td>2013-05-19</td>\n",
       "      <td>2013-07-05</td>\n",
       "      <td>47</td>\n",
       "    </tr>\n",
       "    <tr>\n",
       "      <td>9</td>\n",
       "      <td>0</td>\n",
       "      <td>8</td>\n",
       "      <td>1017</td>\n",
       "      <td>1489</td>\n",
       "      <td>0</td>\n",
       "      <td>2013-02-16</td>\n",
       "      <td>2013-04-05</td>\n",
       "      <td>48</td>\n",
       "    </tr>\n",
       "  </tbody>\n",
       "</table>\n",
       "</div>"
      ],
      "text/plain": [
       "    redemption_status  campaign_id  coupon_id  customer_id  campaign_type  \\\n",
       "id                                                                          \n",
       "1                   0           13         27         1053              0   \n",
       "2                   0           13        116           48              0   \n",
       "6                   0            9        635          205              1   \n",
       "7                   0           13        644         1050              0   \n",
       "9                   0            8       1017         1489              0   \n",
       "\n",
       "   start_date   end_date  duration  \n",
       "id                                  \n",
       "1  2013-05-19 2013-07-05        47  \n",
       "2  2013-05-19 2013-07-05        47  \n",
       "6  2013-03-11 2013-04-12        32  \n",
       "7  2013-05-19 2013-07-05        47  \n",
       "9  2013-02-16 2013-04-05        48  "
      ]
     },
     "execution_count": 4,
     "metadata": {},
     "output_type": "execute_result"
    }
   ],
   "source": [
    "trainset = pd.read_csv('data/train/train_feature.csv', index_col='id', parse_dates=['start_date','end_date'])\n",
    "trainset.head()"
   ]
  },
  {
   "cell_type": "code",
   "execution_count": 5,
   "metadata": {},
   "outputs": [
    {
     "data": {
      "text/html": [
       "<div>\n",
       "<style scoped>\n",
       "    .dataframe tbody tr th:only-of-type {\n",
       "        vertical-align: middle;\n",
       "    }\n",
       "\n",
       "    .dataframe tbody tr th {\n",
       "        vertical-align: top;\n",
       "    }\n",
       "\n",
       "    .dataframe thead th {\n",
       "        text-align: right;\n",
       "    }\n",
       "</style>\n",
       "<table border=\"1\" class=\"dataframe\">\n",
       "  <thead>\n",
       "    <tr style=\"text-align: right;\">\n",
       "      <th></th>\n",
       "      <th>campaign_id</th>\n",
       "      <th>coupon_id</th>\n",
       "      <th>customer_id</th>\n",
       "      <th>campaign_type</th>\n",
       "      <th>start_date</th>\n",
       "      <th>end_date</th>\n",
       "      <th>duration</th>\n",
       "    </tr>\n",
       "    <tr>\n",
       "      <th>id</th>\n",
       "      <th></th>\n",
       "      <th></th>\n",
       "      <th></th>\n",
       "      <th></th>\n",
       "      <th></th>\n",
       "      <th></th>\n",
       "      <th></th>\n",
       "    </tr>\n",
       "  </thead>\n",
       "  <tbody>\n",
       "    <tr>\n",
       "      <td>3</td>\n",
       "      <td>22</td>\n",
       "      <td>869</td>\n",
       "      <td>967</td>\n",
       "      <td>0</td>\n",
       "      <td>2013-09-16</td>\n",
       "      <td>2013-10-18</td>\n",
       "      <td>32</td>\n",
       "    </tr>\n",
       "    <tr>\n",
       "      <td>4</td>\n",
       "      <td>20</td>\n",
       "      <td>389</td>\n",
       "      <td>1566</td>\n",
       "      <td>1</td>\n",
       "      <td>2013-09-07</td>\n",
       "      <td>2013-11-16</td>\n",
       "      <td>70</td>\n",
       "    </tr>\n",
       "    <tr>\n",
       "      <td>5</td>\n",
       "      <td>22</td>\n",
       "      <td>981</td>\n",
       "      <td>510</td>\n",
       "      <td>0</td>\n",
       "      <td>2013-09-16</td>\n",
       "      <td>2013-10-18</td>\n",
       "      <td>32</td>\n",
       "    </tr>\n",
       "    <tr>\n",
       "      <td>8</td>\n",
       "      <td>25</td>\n",
       "      <td>1069</td>\n",
       "      <td>361</td>\n",
       "      <td>1</td>\n",
       "      <td>2013-10-21</td>\n",
       "      <td>2013-11-22</td>\n",
       "      <td>32</td>\n",
       "    </tr>\n",
       "    <tr>\n",
       "      <td>10</td>\n",
       "      <td>17</td>\n",
       "      <td>498</td>\n",
       "      <td>811</td>\n",
       "      <td>1</td>\n",
       "      <td>2013-07-29</td>\n",
       "      <td>2013-08-30</td>\n",
       "      <td>32</td>\n",
       "    </tr>\n",
       "  </tbody>\n",
       "</table>\n",
       "</div>"
      ],
      "text/plain": [
       "    campaign_id  coupon_id  customer_id  campaign_type start_date   end_date  \\\n",
       "id                                                                             \n",
       "3            22        869          967              0 2013-09-16 2013-10-18   \n",
       "4            20        389         1566              1 2013-09-07 2013-11-16   \n",
       "5            22        981          510              0 2013-09-16 2013-10-18   \n",
       "8            25       1069          361              1 2013-10-21 2013-11-22   \n",
       "10           17        498          811              1 2013-07-29 2013-08-30   \n",
       "\n",
       "    duration  \n",
       "id            \n",
       "3         32  \n",
       "4         70  \n",
       "5         32  \n",
       "8         32  \n",
       "10        32  "
      ]
     },
     "execution_count": 5,
     "metadata": {},
     "output_type": "execute_result"
    }
   ],
   "source": [
    "testset = pd.read_csv('data/test/test_feature.csv', index_col='id', parse_dates=['start_date','end_date'])\n",
    "testset.head()"
   ]
  },
  {
   "cell_type": "code",
   "execution_count": 6,
   "metadata": {},
   "outputs": [
    {
     "name": "stdout",
     "output_type": "stream",
     "text": [
      "Trainset size: (78369, 4)\n",
      "Testset size: (50226, 3)\n"
     ]
    }
   ],
   "source": [
    "trainset, testset = preprocess(trainset, testset)\n",
    "\n",
    "print(\"Trainset size: {}\".format(trainset.shape))\n",
    "print(\"Testset size: {}\".format(testset.shape))"
   ]
  },
  {
   "cell_type": "code",
   "execution_count": 7,
   "metadata": {},
   "outputs": [],
   "source": [
    "feature_columns = features"
   ]
  },
  {
   "cell_type": "code",
   "execution_count": 8,
   "metadata": {},
   "outputs": [
    {
     "name": "stdout",
     "output_type": "stream",
     "text": [
      "Train set size: (62695, 3)\n",
      "Validation set size: (15674, 3)\n"
     ]
    }
   ],
   "source": [
    "trainset, validationset = train_test_split(trainset, random_state=41, test_size=0.2)\n",
    "\n",
    "X_train, y_train = trainset[feature_columns], trainset[target]\n",
    "X_val, y_val = validationset[feature_columns], validationset[target]\n",
    "\n",
    "print(\"Train set size: {}\".format(X_train.shape))\n",
    "print(\"Validation set size: {}\".format(X_val.shape))"
   ]
  },
  {
   "cell_type": "code",
   "execution_count": 9,
   "metadata": {},
   "outputs": [
    {
     "data": {
      "text/plain": [
       "0.8421474348582607"
      ]
     },
     "execution_count": 9,
     "metadata": {},
     "output_type": "execute_result"
    }
   ],
   "source": [
    "lgb = LGBMClassifier()\n",
    "lgb.fit(X_train, y_train, eval_metric='auc')\n",
    "y_pred = lgb.predict_proba(X_val)\n",
    "\n",
    "roc_auc_score(y_val, y_pred[:,1])"
   ]
  },
  {
   "cell_type": "markdown",
   "metadata": {},
   "source": [
    " "
   ]
  },
  {
   "cell_type": "markdown",
   "metadata": {},
   "source": [
    " "
   ]
  },
  {
   "cell_type": "code",
   "execution_count": 10,
   "metadata": {},
   "outputs": [],
   "source": [
    "X_test = testset[feature_columns]\n",
    "testset[target] = lgb.predict_proba(X_test)[:,1]\n",
    "\n",
    "submission = testset[[target]]\n",
    "submission.to_csv('data/report/report_1.csv')"
   ]
  }
 ],
 "metadata": {
  "kernelspec": {
   "display_name": "Python 3",
   "language": "python",
   "name": "python3"
  },
  "language_info": {
   "codemirror_mode": {
    "name": "ipython",
    "version": 3
   },
   "file_extension": ".py",
   "mimetype": "text/x-python",
   "name": "python",
   "nbconvert_exporter": "python",
   "pygments_lexer": "ipython3",
   "version": "3.7.4"
  }
 },
 "nbformat": 4,
 "nbformat_minor": 2
}
